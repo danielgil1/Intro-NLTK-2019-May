{
 "cells": [
  {
   "cell_type": "markdown",
   "metadata": {
    "slideshow": {
     "slide_type": "slide"
    }
   },
   "source": [
    "# Introduction to NLTK\n",
    "\n",
    "Use computers to identify patterns in language and textual data\n"
   ]
  },
  {
   "cell_type": "markdown",
   "metadata": {
    "slideshow": {
     "slide_type": "slide"
    }
   },
   "source": [
    "## Orientation: Where am I?\n",
    "<img src='res/launch_1.jpg'>\n",
    "\n",
    "\n",
    "<i>Credits: Kerbal space program: Falcon 9 Space X</i>"
   ]
  },
  {
   "cell_type": "markdown",
   "metadata": {
    "slideshow": {
     "slide_type": "slide"
    }
   },
   "source": [
    "## Our command module: Interactive python (IPython) with Jupyter Notebooks\n",
    "\n",
    "\n",
    "Let's play around with our environment:\n",
    "- Setting up and get ready with [Anaconda](https://www.continuum.io/downloads). It's free. \n",
    "- What is a notebook?\n",
    "- What can I do in the cells?\n",
    "- Most used features"
   ]
  },
  {
   "cell_type": "markdown",
   "metadata": {
    "slideshow": {
     "slide_type": "slide"
    }
   },
   "source": [
    "### Challenge: Explore the jupyter notebooks\n",
    "- Open the notebook [material](http://a.com) or make a copy for you in the cloud\n",
    "- Add 5 cells to the notebook\n",
    "- Delete 3 cells\n",
    "- Type \"Hello world\" inside the last emtpy cell and run it (we will learn how to to put more things inside Next!)\n",
    "- Move the cell to be the first\n"
   ]
  },
  {
   "cell_type": "code",
   "execution_count": null,
   "metadata": {},
   "outputs": [],
   "source": [
    "\"Hello world\""
   ]
  },
  {
   "cell_type": "code",
   "execution_count": null,
   "metadata": {},
   "outputs": [],
   "source": []
  },
  {
   "cell_type": "markdown",
   "metadata": {
    "slideshow": {
     "slide_type": "slide"
    }
   },
   "source": [
    "Now we know where we are standing... few comments:\n",
    "\n",
    "1. The main strength of IPython is that you can run bits of code individually\n",
    "2. IPython allows you to display images alongside code, and to save the input and output together.\n",
    "3. IPython makes learning a bit easier, as mistakes are easier to find and do not break an entire workflow."
   ]
  },
  {
   "cell_type": "markdown",
   "metadata": {
    "slideshow": {
     "slide_type": "slide"
    }
   },
   "source": [
    "### Wait.. what is python?\n",
    "\n",
    "<img src='res/missionpython_cover.png'>\n",
    "\n",
    "Python is easy-to-use programming language and comes with handy / efficient tools to manipulate linguistic data. We  will learn just the basics to perform reproducible research. "
   ]
  },
  {
   "cell_type": "markdown",
   "metadata": {
    "slideshow": {
     "slide_type": "slide"
    }
   },
   "source": [
    "# What is the Natural Language Toolkit?\n",
    "<img src='res/NLTK.png'>\n",
    "\n",
    "NLTK is a Python Library for working with written language data. "
   ]
  },
  {
   "cell_type": "code",
   "execution_count": null,
   "metadata": {},
   "outputs": [],
   "source": []
  },
  {
   "cell_type": "markdown",
   "metadata": {
    "slideshow": {
     "slide_type": "slide"
    }
   },
   "source": [
    "\n",
    "NLTK is free and extensively documented [here](http://www.nltk.org/).\n",
    "> Note: NLTK provides tools for tasks ranging from very simple (counting words in a text) to very complex (writing and training parsers, etc.)\n",
    "\n",
    "We will start by importing NLTK and explore some data available for test"
   ]
  },
  {
   "cell_type": "code",
   "execution_count": 2,
   "metadata": {
    "slideshow": {
     "slide_type": "slide"
    }
   },
   "outputs": [],
   "source": [
    "# import nltk library\n",
    "import nltk"
   ]
  },
  {
   "cell_type": "markdown",
   "metadata": {},
   "source": [
    "If you don't have data to work with you can use NLTK sample data. Here how you can access to it"
   ]
  },
  {
   "cell_type": "code",
   "execution_count": 3,
   "metadata": {
    "slideshow": {
     "slide_type": "slide"
    }
   },
   "outputs": [
    {
     "name": "stdout",
     "output_type": "stream",
     "text": [
      "[nltk_data] Downloading package punkt to /Users/danielgil/nltk_data...\n",
      "[nltk_data]   Package punkt is already up-to-date!\n",
      "[nltk_data] Downloading package gutenberg to\n",
      "[nltk_data]     /Users/danielgil/nltk_data...\n",
      "[nltk_data]   Package gutenberg is already up-to-date!\n"
     ]
    },
    {
     "data": {
      "text/plain": [
       "True"
      ]
     },
     "execution_count": 3,
     "metadata": {},
     "output_type": "execute_result"
    }
   ],
   "source": [
    "# get some example data from nltk\n",
    "# asterisk means 'everything'\n",
    "# from nltk.corpus import *\n",
    "from nltk.corpus import gutenberg\n",
    "nltk.download('punkt')\n",
    "nltk.download('gutenberg')\n"
   ]
  },
  {
   "cell_type": "code",
   "execution_count": 4,
   "metadata": {
    "slideshow": {
     "slide_type": "slide"
    }
   },
   "outputs": [
    {
     "data": {
      "text/plain": [
       "[['[', 'The', 'Tragedie', 'of', 'Macbeth', 'by', 'William', 'Shakespeare', '1603', ']'], ['Actus', 'Primus', '.'], ...]"
      ]
     },
     "execution_count": 4,
     "metadata": {},
     "output_type": "execute_result"
    }
   ],
   "source": [
    "sentences=gutenberg.sents('shakespeare-macbeth.txt')\n",
    "sentences"
   ]
  },
  {
   "cell_type": "code",
   "execution_count": 5,
   "metadata": {
    "slideshow": {
     "slide_type": "slide"
    }
   },
   "outputs": [
    {
     "data": {
      "text/plain": [
       "['[', 'The', 'Tragedie', 'of', 'Macbeth', 'by', ...]"
      ]
     },
     "execution_count": 5,
     "metadata": {},
     "output_type": "execute_result"
    }
   ],
   "source": [
    "# explore the raw text\n",
    "words=gutenberg.words('shakespeare-macbeth.txt')\n",
    "words"
   ]
  },
  {
   "cell_type": "markdown",
   "metadata": {
    "slideshow": {
     "slide_type": "slide"
    }
   },
   "source": [
    "A list of all possible texts available for the guttenberg corpus can be printed here:"
   ]
  },
  {
   "cell_type": "code",
   "execution_count": 6,
   "metadata": {
    "slideshow": {
     "slide_type": "fragment"
    }
   },
   "outputs": [
    {
     "data": {
      "text/plain": [
       "['austen-emma.txt',\n",
       " 'austen-persuasion.txt',\n",
       " 'austen-sense.txt',\n",
       " 'bible-kjv.txt',\n",
       " 'blake-poems.txt',\n",
       " 'bryant-stories.txt',\n",
       " 'burgess-busterbrown.txt',\n",
       " 'carroll-alice.txt',\n",
       " 'chesterton-ball.txt',\n",
       " 'chesterton-brown.txt',\n",
       " 'chesterton-thursday.txt',\n",
       " 'edgeworth-parents.txt',\n",
       " 'melville-moby_dick.txt',\n",
       " 'milton-paradise.txt',\n",
       " 'shakespeare-caesar.txt',\n",
       " 'shakespeare-hamlet.txt',\n",
       " 'shakespeare-macbeth.txt',\n",
       " 'whitman-leaves.txt']"
      ]
     },
     "execution_count": 6,
     "metadata": {},
     "output_type": "execute_result"
    }
   ],
   "source": [
    "gutenberg.fileids()"
   ]
  },
  {
   "cell_type": "markdown",
   "metadata": {
    "slideshow": {
     "slide_type": "fragment"
    }
   },
   "source": [
    "Explore more at http://www.gutenberg.org/"
   ]
  },
  {
   "cell_type": "markdown",
   "metadata": {
    "slideshow": {
     "slide_type": "slide"
    }
   },
   "source": [
    "## Variables\n",
    "We use variables to name temporary data in the computer.\n",
    "Think of it as a nickname so we can use our data in other parts of the notebook.\n",
    "Try to assign a variable to our text \"hello world!\".\n",
    ">Hint: Don't forget quotes when writing text.\n",
    "\n",
    "```python\n",
    "greetings='Hello world!'\n",
    "```\n"
   ]
  },
  {
   "cell_type": "code",
   "execution_count": 7,
   "metadata": {
    "slideshow": {
     "slide_type": "fragment"
    }
   },
   "outputs": [],
   "source": [
    "greetings='Hello world!'    "
   ]
  },
  {
   "cell_type": "markdown",
   "metadata": {
    "slideshow": {
     "slide_type": "slide"
    }
   },
   "source": [
    "Now, call your variable by the nickname:"
   ]
  },
  {
   "cell_type": "code",
   "execution_count": 8,
   "metadata": {
    "slideshow": {
     "slide_type": "fragment"
    }
   },
   "outputs": [
    {
     "data": {
      "text/plain": [
       "'Hello world!'"
      ]
     },
     "execution_count": 8,
     "metadata": {},
     "output_type": "execute_result"
    }
   ],
   "source": [
    "greetings "
   ]
  },
  {
   "cell_type": "code",
   "execution_count": 9,
   "metadata": {
    "slideshow": {
     "slide_type": "fragment"
    }
   },
   "outputs": [
    {
     "data": {
      "text/plain": [
       "[['[', 'The', 'Tragedie', 'of', 'Macbeth', 'by', 'William', 'Shakespeare', '1603', ']'], ['Actus', 'Primus', '.'], ...]"
      ]
     },
     "execution_count": 9,
     "metadata": {},
     "output_type": "execute_result"
    }
   ],
   "source": [
    "# call the variable sentences\n",
    "sentences"
   ]
  },
  {
   "cell_type": "markdown",
   "metadata": {
    "slideshow": {
     "slide_type": "slide"
    }
   },
   "source": [
    "We can assign other type of data to variables, like numbers:"
   ]
  },
  {
   "cell_type": "code",
   "execution_count": 10,
   "metadata": {
    "slideshow": {
     "slide_type": "fragment"
    }
   },
   "outputs": [
    {
     "data": {
      "text/plain": [
       "30"
      ]
     },
     "execution_count": 10,
     "metadata": {},
     "output_type": "execute_result"
    }
   ],
   "source": [
    "age=30\n",
    "age"
   ]
  },
  {
   "cell_type": "markdown",
   "metadata": {
    "slideshow": {
     "slide_type": "slide"
    }
   },
   "source": [
    "It is good to choose meaningful variable names to remind you — and to help anyone else who reads your Python code — what your code is meant to do. Python does not try to make sense of the names; it blindly follows your instructions, and does not object if you do something confusing, such as ```one = 'two'``` or ```two = 3```. The only restriction is that a variable name cannot be any of Python's reserved words, such as def, if, not, and import. If you use a reserved word, Python will produce a syntax error:"
   ]
  },
  {
   "cell_type": "code",
   "execution_count": 11,
   "metadata": {
    "slideshow": {
     "slide_type": "slide"
    }
   },
   "outputs": [
    {
     "data": {
      "text/plain": [
       "2"
      ]
     },
     "execution_count": 11,
     "metadata": {},
     "output_type": "execute_result"
    }
   ],
   "source": [
    "one=2\n",
    "one"
   ]
  },
  {
   "cell_type": "markdown",
   "metadata": {
    "slideshow": {
     "slide_type": "fragment"
    }
   },
   "source": [
    "Variables can give a name to lot of things, we call this **objects**, Python’s abstraction for data. All data in a Python program is represented by objects or by relations between objects. \n",
    "We will use operations with this objects which we call **methods** and **functions**."
   ]
  },
  {
   "cell_type": "markdown",
   "metadata": {
    "slideshow": {
     "slide_type": "slide"
    }
   },
   "source": [
    "## Python as a calculator\n",
    "We can use the iPython environment as a caluculator; try doing some basic mathematics with python. *Hint*: use * and / like your smartphone."
   ]
  },
  {
   "cell_type": "code",
   "execution_count": 12,
   "metadata": {
    "slideshow": {
     "slide_type": "fragment"
    }
   },
   "outputs": [
    {
     "data": {
      "text/plain": [
       "20"
      ]
     },
     "execution_count": 12,
     "metadata": {},
     "output_type": "execute_result"
    }
   ],
   "source": [
    "# multiplication\n",
    "4*5"
   ]
  },
  {
   "cell_type": "code",
   "execution_count": 13,
   "metadata": {
    "slideshow": {
     "slide_type": "slide"
    }
   },
   "outputs": [
    {
     "data": {
      "text/plain": [
       "4.0"
      ]
     },
     "execution_count": 13,
     "metadata": {},
     "output_type": "execute_result"
    }
   ],
   "source": [
    "# division \n",
    "20/5"
   ]
  },
  {
   "cell_type": "markdown",
   "metadata": {
    "slideshow": {
     "slide_type": "fragment"
    }
   },
   "source": [
    "You can make operations between objects using **operators**.\n",
    "Operators are important and we can do more with them than multiply. We can ask IPython if something is equal to **==** or not equal to **!=** and a number of others. Try it!"
   ]
  },
  {
   "cell_type": "code",
   "execution_count": 14,
   "metadata": {
    "slideshow": {
     "slide_type": "fragment"
    }
   },
   "outputs": [
    {
     "data": {
      "text/plain": [
       "False"
      ]
     },
     "execution_count": 14,
     "metadata": {},
     "output_type": "execute_result"
    }
   ],
   "source": [
    "# comparison\n",
    "'hello'=='Hello'"
   ]
  },
  {
   "cell_type": "markdown",
   "metadata": {
    "slideshow": {
     "slide_type": "slide"
    }
   },
   "source": [
    "## Methods and functions\n",
    "\n",
    "<img src='res/methods_functions.jpg'>\n",
    "\n",
    "<i>Credits: Kerbal space program: Falcon 9 Space X</i>"
   ]
  },
  {
   "cell_type": "markdown",
   "metadata": {
    "slideshow": {
     "slide_type": "slide"
    }
   },
   "source": [
    "The syntax we'll use the most involves two types of commands: \"functions and methods\"; one that look like this ```len()``` and anothers that look like this ```.split()```\n",
    "\n",
    "Both need an object (text data in our case) to work on; for example, ```len(text1)```."
   ]
  },
  {
   "cell_type": "code",
   "execution_count": 15,
   "metadata": {
    "slideshow": {
     "slide_type": "fragment"
    }
   },
   "outputs": [
    {
     "data": {
      "text/plain": [
       "12"
      ]
     },
     "execution_count": 15,
     "metadata": {},
     "output_type": "execute_result"
    }
   ],
   "source": [
    "len(greetings)\n"
   ]
  },
  {
   "cell_type": "code",
   "execution_count": 16,
   "metadata": {},
   "outputs": [
    {
     "name": "stdout",
     "output_type": "stream",
     "text": [
      "Hello world!\n"
     ]
    }
   ],
   "source": [
    "print(greetings) "
   ]
  },
  {
   "cell_type": "markdown",
   "metadata": {
    "slideshow": {
     "slide_type": "slide"
    }
   },
   "source": [
    "## Python basics: A summary\n",
    "\n",
    "- Syntax = Set of rules to define how python is written\n",
    "- Python is designed to be highly readable\n",
    "- Uses english keywords which are easy to understand\n",
    "- Besides \"Objects\", we will start using \"functions\" and \"methods\": pieces of code already written that we can reuse\n",
    "\n"
   ]
  },
  {
   "cell_type": "markdown",
   "metadata": {
    "slideshow": {
     "slide_type": "slide"
    }
   },
   "source": [
    "## Quick start: Let computers do the reading and count\n",
    "\n"
   ]
  },
  {
   "cell_type": "markdown",
   "metadata": {
    "slideshow": {
     "slide_type": "slide"
    }
   },
   "source": [
    "### Exploring vocabulary:  Useful functions\n",
    "\n",
    "NLTK makes it really easy to get basic information about the size of a text and the complexity of its vocabulary using **python functions**.\n",
    "*Please* note that all these commands use the same *syntax*; this is the first python syntax we'll learn."
   ]
  },
  {
   "cell_type": "markdown",
   "metadata": {
    "slideshow": {
     "slide_type": "slide"
    }
   },
   "source": [
    "```len(text1)``` gives the number of symbols or 'tokens' in your text. E.g. words"
   ]
  },
  {
   "cell_type": "code",
   "execution_count": 17,
   "metadata": {
    "slideshow": {
     "slide_type": "fragment"
    }
   },
   "outputs": [
    {
     "data": {
      "text/plain": [
       "23140"
      ]
     },
     "execution_count": 17,
     "metadata": {},
     "output_type": "execute_result"
    }
   ],
   "source": [
    "len(words)"
   ]
  },
  {
   "cell_type": "markdown",
   "metadata": {
    "slideshow": {
     "slide_type": "slide"
    }
   },
   "source": [
    "```set(text2)``` gives you a list of all the tokens in the text, without the duplicates. Hence, ```len(set(text3))``` will give you the total number unique tokens. Remember this still includes punctuation. "
   ]
  },
  {
   "cell_type": "code",
   "execution_count": 18,
   "metadata": {
    "slideshow": {
     "slide_type": "fragment"
    }
   },
   "outputs": [
    {
     "data": {
      "text/plain": [
       "4017"
      ]
     },
     "execution_count": 18,
     "metadata": {},
     "output_type": "execute_result"
    }
   ],
   "source": [
    "len(set(words))"
   ]
  },
  {
   "cell_type": "markdown",
   "metadata": {
    "slideshow": {
     "slide_type": "slide"
    }
   },
   "source": [
    "```sorted(text4)``` places items in the list into alphabetical order, with punctuation symbols and capitalised words first."
   ]
  },
  {
   "cell_type": "code",
   "execution_count": 19,
   "metadata": {
    "slideshow": {
     "slide_type": "fragment"
    }
   },
   "outputs": [
    {
     "data": {
      "text/plain": [
       "[' ', '!', 'H', 'd', 'e', 'l', 'l', 'l', 'o', 'o', 'r', 'w']"
      ]
     },
     "execution_count": 19,
     "metadata": {},
     "output_type": "execute_result"
    }
   ],
   "source": [
    "sorted(greetings)"
   ]
  },
  {
   "cell_type": "markdown",
   "metadata": {
    "slideshow": {
     "slide_type": "slide"
    }
   },
   "source": [
    "#### Challenge: Lexical richness\n",
    "\n",
    "We can investigate the *lexical richness* of a text. For example, by dividing the total number of words by the number of unique words, we can see the average number of times each word is used. \n",
    "\n",
    "For this challenge you will have to combine your knowledge of the syntax we've learnt so far and iPython's mathematical abilities.\n",
    "\n",
    "Have a go at calculating the lexical richness of text3."
   ]
  },
  {
   "cell_type": "code",
   "execution_count": 20,
   "metadata": {
    "slideshow": {
     "slide_type": "slide"
    }
   },
   "outputs": [
    {
     "data": {
      "text/plain": [
       "5.760517799352751"
      ]
     },
     "execution_count": 20,
     "metadata": {},
     "output_type": "execute_result"
    }
   ],
   "source": [
    "#words\n",
    "len(words)/len(set(words))"
   ]
  },
  {
   "cell_type": "markdown",
   "metadata": {
    "slideshow": {
     "slide_type": "slide"
    }
   },
   "source": [
    "#### Challenge: Percentaje taken by a word in text\n",
    "Store in a variable the amount of times the word \"love\" is in the text. Then calculate the percentaje taken up by this word in the whole text"
   ]
  },
  {
   "cell_type": "code",
   "execution_count": 21,
   "metadata": {
    "slideshow": {
     "slide_type": "slide"
    }
   },
   "outputs": [
    {
     "data": {
      "text/plain": [
       "0.216076058772688"
      ]
     },
     "execution_count": 21,
     "metadata": {},
     "output_type": "execute_result"
    }
   ],
   "source": [
    "love_count=50\n",
    "love_count/len(words)*100"
   ]
  },
  {
   "cell_type": "markdown",
   "metadata": {
    "slideshow": {
     "slide_type": "slide"
    }
   },
   "source": [
    "## Load your own text\n",
    "<img src='res/text.jpg'>"
   ]
  },
  {
   "cell_type": "markdown",
   "metadata": {
    "slideshow": {
     "slide_type": "slide"
    }
   },
   "source": [
    "There are several ways to do this, here we will discuss two options and you can see at the end of notebook another option.\n"
   ]
  },
  {
   "cell_type": "markdown",
   "metadata": {
    "slideshow": {
     "slide_type": "slide"
    }
   },
   "source": [
    "### Load from disk"
   ]
  },
  {
   "cell_type": "markdown",
   "metadata": {},
   "source": [
    "For this part of the notebook, it is assumed you have downloaded [here](https://transfer.sh/KGhz3/papers_text.txt) the dataset and placed on a ``data`` folder. "
   ]
  },
  {
   "cell_type": "markdown",
   "metadata": {},
   "source": [
    "The dataset contains more than 7K papers from NiPS conference. You can find more about this conference here: https://nips.cc"
   ]
  },
  {
   "cell_type": "code",
   "execution_count": 22,
   "metadata": {
    "slideshow": {
     "slide_type": "fragment"
    }
   },
   "outputs": [],
   "source": [
    "# https://transfer.sh/KGhz3/papers_text.txt\n",
    "text_raw=\"\"\n",
    "with open(\"data/tweets.txt\",'r') as text_file:\n",
    "    text_raw=text_file.read()"
   ]
  },
  {
   "cell_type": "code",
   "execution_count": 24,
   "metadata": {
    "slideshow": {
     "slide_type": "slide"
    }
   },
   "outputs": [
    {
     "data": {
      "text/plain": [
       "'@OneNationAus The most toxic party on the Australian political landscape. You\\'ve somehow managed to make Clive Palm… https://t.co/NREuPrVzLaRT @SocialistAllnce: Australia still refuses to officially acknowledge &amp; respect the frontier wars that came with European colonisation of…@MRobertsQLD @OneNationAus But Saudi Arabia beheads 37 people and the are the head of women’s rights and the UN, why haven’t we left yet?@JenniferGame6 @OneNationAus @PaulineHansonOz All the best u got this☺☺☺ https://t.co/MnCst9g2ZAI thought @OneNationAus’ vetting process was supposed to be watertight this time? #auspol https://t.co/CnhTuyPwKC@PatsKarvelas So strange not having @LiberalAus @The_Nationals @LNPQLD pollies running around squealing about… https://t.co/mE9JrwsLvART @au_bizcoach: Jobs 4 the boys?\\nNiall Blair: Minister for Trade and Industry &amp;  the Minister for Regional Water since January 2017 in the…We won\\'t stand being unable to afford to keep our homes unless you #voteonenation. With #OneNation, we will march o… https://t.co/EuwJ4VdfXrWell for one this you don’t get into @OneNationAus without being a complete #arseclown and if you are desperate, wi… https://t.co/GqWJfNluwDRT @Aushiker: Nationals\\' Gilmore candidate Katrina Hodgkinson still on lobbying firm\\'s payroll https://t.co/M4R460WNsi via @The_Nationals @…Bundy and #Watergate - Independent Australia #Corruption @The_Nationals #Election19 @M_McCormackMP #29557… https://t.co/9UHg6aDNdQ.@Barnaby_Joyce and #Watergate: the water buybacks scandal explained #Corruption @The_Nationals #Election19… https://t.co/9RrAQO1itI.@Barnaby_Joyce requested updates on $80m sale of water by Eastern Australia Agriculture #Watergate #corruption… https://t.co/Z63sZGGt74Looks like he nailed the selection criteria for joining @OneNationAus \\n\\nProbably off to have a meeting with the NRA… https://t.co/X0WJWuyAW2RT @lutajobe: @DrCameronMurray you kept that a secret....😜\\nYou made it to the @gympie_times \\nhttps://t.co/hGhJABkyAv\\nWonder is #widebayvote…RT @otiose94: .@Barnaby_Joyce requested updates on $80m sale of water by Eastern Australia Agriculture #Watergate #corruption #election19 @…@prrsimons How many ALP figures have partners working at Santos again? 🙄\\nVote @VoteSustainable in the Senate for se… https://t.co/NkzsicMI1hHahahaha @UnitedAusParty have a grad total of four policies on their website and aside from his Mineral Wealth ‘pol… https://t.co/Vbtx7Zwbp3It’s all about the $$$$$.  @Melissa4Durack &amp; the @LiberalAus &amp; @The_Nationals can’t see the past 65000 years.  They… https://t.co/VAqEMqFyqwRT @VoteSustainable: Not the Greens - new party with a new attitude https://t.co/FHRdy6l2CU\\n\\n\"We\\'re an independent community party from the…@MRobertsQLD @OneNationAus You wonder why they\\'re fcking mad Queensland\\'s already in drought, coals not renewable a… https://t.co/EOQh0SzS6q@lotusaccts @Chartered_Accts @Xero @MatthewProuse @SimoneMacks @LieletteCalleja @RobStone20 @HeatherSmithAU… https://t.co/YKAN7BP9ji@JenniferGame6 @OneNationAus @PaulineHansonOz Word is on the street your tipped to take @sarahinthesen8  seats in t… https://t.co/x8c3cYKedbA preference deal between @The_Nationals &amp; @OneNationAus has grabbed the headlines in Tasmania. @swegen31 interview… https://t.co/kZgLweZ4nBBundy and #Watergate - Independent Australia #Corruption @The_Nationals #Election19 @M_McCormackMP #29557… https://t.co/p5khF02PFE.@Barnaby_Joyce and #Watergate: the water buybacks scandal explained #Corruption @The_Nationals #Election19… https://t.co/6HHypnGqanRT @VoteSustainable: Not the Greens - new party with a new attitude https://t.co/FHRdy6l2CU\\n\\n\"We\\'re an independent community party from the…MB Report: Three Economic Myths about #Ageing: #Participation, #Immigration and #Infrastructure… https://t.co/wyt3SP4ZynRT @WINNews_Tas: A preference deal between @The_Nationals &amp; @OneNationAus has grabbed the headlines in Tasmania. @swegen31 interviewed @Sen…RT @Mmwall1: @JenniferGame6 @OneNationAus @PaulineHansonOz All the best u got this☺☺☺ https://t.co/MnCst9g2ZA@Mmwall1 @OneNationAus @PaulineHansonOz Love this, thanks for sharing..RT @markede05626239: @JenniferGame6 @OneNationAus @PaulineHansonOz Word is on the street your tipped to take @sarahinthesen8  seats in the…@markede05626239 @OneNationAus @PaulineHansonOz @sarahinthesen8 That\\'s the goal Mark.@MaryanneSlatte1 @AngusGrigg Yes #Watergate scandal is only the tip of a very big iceberg #Watergate @Barnaby_Joyce… https://t.co/WFk5oZxpij@nobby15 And of course it shows the character of .@PaulineHansonOz that she\\'ll support someone with misogynistic, b… https://t.co/IJu2Ol6iv3RT @otiose94: .@Barnaby_Joyce and #Watergate: the water buybacks scandal explained #Corruption @The_Nationals #Election19 @M_McCormackMP #2…This is the calibre of candidates put up by the #Coalition. Torn between laughing and crying. Laughing at these clo… https://t.co/dPY3BiitVqRT @VoteSustainable: Not the Greens - new party with a new attitude https://t.co/FHRdy6l2CU\\n\\n\"We\\'re an independent community party from the…RT @WINNews_Tas: A preference deal between @The_Nationals &amp; @OneNationAus has grabbed the headlines in Tasmania. @swegen31 interviewed @Sen…@lionheartleojai @suthernx @Senator_Steve #FFS are you that desperate that you will do a deal with the low life mor… https://t.co/1Rgk5pXnRG@LiberalAus happy to hope into bed with grubs like @PalmerUtdParty and @OneNationAus #AusPol@pazzazaz @VoteSustainable What\\'s gender politics? Sustainable Australia is more green than the Greens. We need a p… https://t.co/KpfOuSeLQC@JenniferGame6 @OneNationAus @PaulineHansonOz Good luck, Jennifer!RT @CharlesSmithMLC: \"I honestly thought the Coalition’s immigration policies couldn’t get any dumber. I was wrong. Its policies are defini…RT @Change_Record: Today Change the Record welcomes the commitments from the Australian Labor Party and the Australian Greens to address cr…RT @Linny57284055: @araluenvalley @bullettrainsaus The bit where they realise @LiberalAus &amp; @AustralianLabor don\\'t give a stuff about them…@LNPQLD @The_Nationals He doesn’t need to\\n\\nHe has compulsory voting on his sideRT @VoteSustainable: We need better #planning to STOP overdevelopment:\\nhttps://t.co/GecZSjlgWz\\n\\n#STOPadani #STOPadaniconvoy\\n\\n#auspol #ausvo…@LNPQLD @The_Nationals Because he has the modesty to know when he’s not the most qualified to answer a question. So… https://t.co/8cPJOmpF0O@Tikane50 @greenleftweekly @SocialistAllnce @vic_socialists \"Greens are at heart a petty bourgeois party.\" OK. But… https://t.co/UbJQOhoX89RT @Change_Record: Today Change the Record welcomes the commitments from the Australian Labor Party and the Australian Greens to address cr…@AllyFarmer6 @SenatorGeorgiou @PaulineHansonOz @AustralianLabor @LiberalAus @TheNationalsWA @CharlesSmithMLC… https://t.co/6YZ8Whn7q6RT @Change_Record: Today Change the Record welcomes the commitments from the Australian Labor Party and the Australian Greens to address cr…@AllyFarmer6 @SenatorGeorgiou @PaulineHansonOz @AustralianLabor @LiberalAus @TheNationalsWA @CharlesSmithMLC… https://t.co/Z02u9xXZPXRT @Mmwall1: @JenniferGame6 @OneNationAus @PaulineHansonOz All the best u got this☺☺☺ https://t.co/MnCst9g2ZA@AndrewMainey @AllyFarmer6 @SenatorGeorgiou @PaulineHansonOz @AustralianLabor @LiberalAus @TheNationalsWA… https://t.co/mAfFjYbdSHRT @Change_Record: Today Change the Record welcomes the commitments from the Australian Labor Party and the Australian Greens to address cr…RT @Change_Record: Today Change the Record welcomes the commitments from the Australian Labor Party and the Australian Greens to address cr…@RodCaddies @AllyFarmer6 @SenatorGeorgiou @PaulineHansonOz @AustralianLabor @LiberalAus @TheNationalsWA… https://t.co/Qnz4T7Zfs3RT @Change_Record: Today Change the Record welcomes the commitments from the Australian Labor Party and the Australian Greens to address cr…@roweafr @FinancialReview @ScottMorrisonMP\\'s #Liberals don\\'t have their own Policies, their Policies are a compilat… https://t.co/kkudEDiZJ2RT @The_Nationals: We believe a vocational education is just as valuable as a uni degree. \\n\\nWe’re strengthening the VET sector through the…“The Australian Council of Trade Unions is launching its largest ever election advertising blitz on Friday. The cam… https://t.co/hiYlkoeS3FRT @Change_Record: Today Change the Record welcomes the commitments from the Australian Labor Party and the Australian Greens to address cr…The Nats’ candidate in Braddon responds to coverage of her party’s preference deal with @OneNationAus. #politas… https://t.co/hXaQd4qBTaRT @MRobertsQLD: There is a real possibility that SHY will be replaced in the Senate with @OneNationAus Jennifer Game\\n\\n\"It horrifies me tha…RT @WINNews_Tas: A preference deal between @The_Nationals &amp; @OneNationAus has grabbed the headlines in Tasmania. @swegen31 interviewed @Sen…@LNPQLD @The_Nationals Bahaha phone call for Mr Pot there\\'s a Mr Kettle  for you@The_Nationals That\\'s why you virtually killed off TAFE. .hypocrites@WINNews_Tas @The_Nationals @OneNationAus @swegen31 @Senator_Steve Fancy siding with one nation hypocrite Martin.@OneNationAus candidate (who also happens to be a massive conspiracy theorist): \"I don\\'t have a woman boss\" um sorr… https://t.co/RKoEyqmsjG@hughiechops @SciencePartyAus @FirmanLeigh No specific policy on synbio, but @SciencePartyAus is founded on the pri… https://t.co/6unIgx5cVl@Nynaeve5 @LesFenton2 @fraser_anning @ZubSpike @AuConservatives @OneNationAus To be honest I don’t know much about… https://t.co/prBIfWULByRT @Change_Record: Today Change the Record welcomes the commitments from the Australian Labor Party and the Australian Greens to address cr…RT @VoteSustainable: One million species risk extinction due to humans: draft UN report https://t.co/mABsX4EjM4\\n\\nA #SustainableAustralia wi…RT @CharlesSmithMLC: \"I honestly thought the Coalition’s immigration policies couldn’t get any dumber. I was wrong. Its policies are defini…@garigalAnj @AusElectoralCom I don\\'t mind no-shows too much as it only reflects poorly on the candidate.… https://t.co/iHoOlyXQi3RT @VoteSustainable: One million species risk extinction due to humans: draft UN report https://t.co/mABsX4EjM4\\n\\nA #SustainableAustralia wi…@The_Nationals @PeterWalshMP So why did the nats virtually destroy the TAFE system in Victoria?RT @The_Nationals: We believe a vocational education is just as valuable as a uni degree. \\n\\nWe’re strengthening the VET sector through the…RT @Change_Record: Today Change the Record welcomes the commitments from the Australian Labor Party and the Australian Greens to address cr…@VoteSustainable @RichardDiNatale @AboriginalPress @GreenpeaceAP https://t.co/gkKASKXUxt@Andrea__Leong @SciencePartyAus @FirmanLeigh @nhmrc @CSIROnews Interesting! Some of the major beneficiaries of synb… https://t.co/79Pt16a2yT@HoonWatchGWheen @OneNationAus Indeed. The major parties\\' approach to immigration and population policies has been… https://t.co/xjoKvYrUVGRT @Change_Record: Today Change the Record welcomes the commitments from the Australian Labor Party and the Australian Greens to address cr…RT @lyntaylor400: @mumabear13 @mswarriorLMS @CraigMinns @barnabyjoyce @TonyHWindsor @adamblakester @markrodda @OutspokenWomen3 @MichaelWest…RT @GlennJones287: @mswarriorLMS @barnabyjoyce @TonyHWindsor @adamblakester @markrodda @OutspokenWomen3 @MichaelWestBiz @MsVeruca @The_Nati…@BelindaJones68 @SenatorWong Liberals - Nationals - Conservative - All tarred with the same brush@Bowenchris @ScottMorrisonMP The left wing labor greens alliance marriage will damage the Australian economy.RT @CharlesSmithMLC: \"I honestly thought the Coalition’s immigration policies couldn’t get any dumber. I was wrong. Its policies are defini…“A marriage of convenience between an ad man and a con man. That’s what Scott Morrison is offering the Australian p… https://t.co/y0RtllQhQGRT @lynlinking: “A marriage of convenience between an ad man and a con man. That’s what Scott Morrison is offering the Australian people. T…RT @VoteSustainable: Why immigration is soaring in Australia despite promises to cut number https://t.co/90yNNaudw3 via @MailOnline\\n\\nA #Sus…RT @M_McCormackMP: The Liberals &amp; @The_Nationals are investing $2m in a precision approach aid to make landing at Mildura Airport even safe…RT @lynlinking: “A marriage of convenience between an ad man and a con man. That’s what Scott Morrison is offering the Australian people. T…@ScottMorrisonMP ... the Preference deal maker - Dividing Australians #FailedPM #NoTrust #PolicyPoor @LiberalAus… https://t.co/W45ajBF2lERT @CharlesSmithMLC: \"I honestly thought the Coalition’s immigration policies couldn’t get any dumber. I was wrong. Its policies are defini…@WINNews_Tas @firstdogonmoon @The_Nationals @OneNationAus @swegen31 @Senator_Steve I think he’s had a few rums at the gunfire breakfastRT @VoteSustainable: Why immigration is soaring in Australia despite promises to cut number https://t.co/90yNNaudw3 via @MailOnline\\n\\nA #Sus…Even though there is no other party competent enough to produce actual forward strategic policy, I still feel the n… https://t.co/TErUfbgfGsRT @VoteSustainable: Not the Greens - new party with a new attitude https://t.co/FHRdy6l2CU\\n\\n\"We\\'re an independent community party from the…RT @VoteSustainable: Not the Greens - new party with a new attitude https://t.co/FHRdy6l2CU\\n\\n\"We\\'re an independent community party from the…RT @lynlinking: “The Australian Council of Trade Unions is launching its largest ever election advertising blitz on Friday. The campaign is…RT @CharlesSmithMLC: \"I honestly thought the Coalition’s immigration policies couldn’t get any dumber. I was wrong. Its policies are defini…\"The only thing worse than a gay person with power is a woman”. Imagine if this @OneNationAus knuckle-dragger met a… https://t.co/AvXDZj0p5H@wcohrs @fraser_anning @LiberalAus @The_Nationals Did he really run away from the draft?RT @lynlinking: “A marriage of convenience between an ad man and a con man. That’s what Scott Morrison is offering the Australian people. T…@CharlesSmithMLC @OneNationAus Did you have another $30billion export in mind to replace it?PM stands next to LNP MP Ken O’Dowd, who is asked if @OneNationAus or @CliveFPalmer’s party should be last? “Oh, th… https://t.co/kzPQFXvKDZRT @lynlinking: “A marriage of convenience between an ad man and a con man. That’s what Scott Morrison is offering the Australian people. T…RT @PhoebeBowden: PM stands next to LNP MP Ken O’Dowd, who is asked if @OneNationAus or @CliveFPalmer’s party should be last? “Oh, that\\'s e…@PhoebeBowden @OneNationAus @CliveFPalmer @Greens @alpsa @fraser_anning @10NewsFirst @10Daily @10NewsFirstSyd… https://t.co/QRoQQtfRyQRT @PhoebeBowden: PM stands next to LNP MP Ken O’Dowd, who is asked if @OneNationAus or @CliveFPalmer’s party should be last? “Oh, that\\'s e…@M_McCormackMP @The_Nationals Can understand why you’re splashing the cash in the Mallee after Andrew Broad. \\nHope… https://t.co/Po1fykQCLLRT @martinrev21: \"Smaller stable populations generally have far higher p/capita wealth than larger, growing populations. \\n\\nAccording to the…RT @PhoebeBowden: PM stands next to LNP MP Ken O’Dowd, who is asked if @OneNationAus or @CliveFPalmer’s party should be last? “Oh, that\\'s e…RT @PhoebeBowden: PM stands next to LNP MP Ken O’Dowd, who is asked if @OneNationAus or @CliveFPalmer’s party should be last? “Oh, that\\'s e…RT @PhoebeBowden: PM stands next to LNP MP Ken O’Dowd, who is asked if @OneNationAus or @CliveFPalmer’s party should be last? “Oh, that\\'s e…@PhoebeBowden @OneNationAus @CliveFPalmer @Greens @alpsa @fraser_anning @10NewsFirst @10Daily @10NewsFirstSyd… https://t.co/9LphidjKR2GetUp shaping Australian politics lie by lie\\nLiberal campaign spokesman, Minister Simon Birmingham, says GetUp lies… https://t.co/8d8YSexbAr@PhoebeBowden @margokingston1 @OneNationAus @CliveFPalmer @Greens @alpsa @fraser_anning @10NewsFirst @10Daily… https://t.co/ptpfEVkDI0@GlennJones287 @M_McCormackMP @The_Nationals We kicked the dodgy Lib, Daryl Maguire, out in NSW State seat of Wagga… https://t.co/9X8otZkdirRT @PhoebeBowden: PM stands next to LNP MP Ken O’Dowd, who is asked if @OneNationAus or @CliveFPalmer’s party should be last? “Oh, that\\'s e…RT @VoteSustainable: Why immigration is soaring in Australia despite promises to cut number https://t.co/90yNNaudw3 via @MailOnline\\n\\nA #Sus…@WAtoday These are the other victims of the #population #ponzi. The problem with #immigration is broken policy and… https://t.co/lsJXECmM4W@ScottMorrisonMP @LiberalAus for so many reasons, including wanting to repeal section 18c to allow race and bigotry… https://t.co/dubas5cmw4Getting my vote ready for the 2019 Australian federal election in the Queensland seat of #Moreton:\\n\\n1️⃣📗 THE GREENS… https://t.co/HSVVuxdEHgJust remember @LiberalAus is supporting clowns like Clive Palmer and @OneNationAus #LibEconomyLies https://t.co/MbauBvI0sdRT @beer_nun: @ScottMorrisonMP @LiberalAus for so many reasons, including wanting to repeal section 18c to allow race and bigotry to be spr…RT @SimonPa50494208: @PhoebeBowden @margokingston1 @OneNationAus @CliveFPalmer @Greens @alpsa @fraser_anning @10NewsFirst @10Daily @10NewsF…Thanks to Tim Fischer for opening Mark Byatt for Indi campaign office in Wodonga today.\\nHe’s right….we’re are now e… https://t.co/7EiERzWGPiThanks @damiandrummp the Libs @the_nationals commit $2mill to Connect GV. Also 👏🏻👏🏻#Shepparton community to make th… https://t.co/RlefT58ffqVile and nasty @OneNationAus. No thanks #AUSVote2019 #auspol https://t.co/PKWM51xPYSRT @TheNationalsVic: Thanks to Tim Fischer for opening Mark Byatt for Indi campaign office in Wodonga today.\\nHe’s right….we’re are now ente…RT @SophieWade_AU: Answers to the two most common questions I’ve had this Easter break:\\n\\n1. \\'Yes, I am the lady who has been fighting to ge…@PhoebeBowden @OneNationAus @CliveFPalmer @Greens @alpsa @fraser_anning @10NewsFirst @10Daily @10NewsFirstSyd… https://t.co/PjdtPyl69J@LNPQLD @The_Nationals Because he’s allowing each appropriate representative to answer the related question. It’s logical and respectful.Agriculture: Growing Australia 2019 Federal Election Priorities campaign launch is Monday in Rocky. So far confirme… https://t.co/hNmmXsAvXJ@roweafr @FinancialReview @ScottMorrisonMP @UnitedAusParty @PaulineHanson @OneNationAus @TheIPA @barriecassidy… https://t.co/MivZ3fEUjO@murpharoo @rosfler_fuller Bugger the debates. Give each leader of their respective parties 30 mins to outline thei… https://t.co/UTZTeqVsjnRT @Change_Record: Today Change the Record welcomes the commitments from the Australian Labor Party and the Australian Greens to address cr…@Lorrain86191635 @SEP_Australia @jaraparilla @WSWS_Updates @Scottludlam @AndrewBartlett @RichardDiNatale Didn\\'t DiN… https://t.co/gI4spGPX58RT @Change_Record: Today Change the Record welcomes the commitments from the Australian Labor Party and the Australian Greens to address cr…RT @VoteSustainable: Not the Greens - new party with a new attitude https://t.co/FHRdy6l2CU\\n\\n\"We\\'re an independent community party from the…RT @JenHogben: @pazzazaz @VoteSustainable What\\'s gender politics? Sustainable Australia is more green than the Greens. We need a party that…Hunter One Nation candidate .@stuart_bonds says what he said in a video online has been taken out of context. He sa… https://t.co/eYhdDDF0miRT @PhoebeBowden: PM stands next to LNP MP Ken O’Dowd, who is asked if @OneNationAus or @CliveFPalmer’s party should be last? “Oh, that\\'s e…RT @MRobertsQLD: There is a real possibility that SHY will be replaced in the Senate with @OneNationAus Jennifer Game\\n\\n\"It horrifies me tha…And @SciencePartyAus @piratepartyau @OddemocracyA @voteflux  we have seen labor in power we have seen Labor green,… https://t.co/vrBJXTh93J@AllyFarmer6 @RodCaddies @SenatorGeorgiou @PaulineHansonOz @AustralianLabor @LiberalAus @TheNationalsWA… https://t.co/hWHakRmVM5@notcherylkernot @CraigHillNet @reasonaustralia Mad libertarians, sorry.If you want more female candidates, @JennaPrice , you should be celebrating the parties that actually run them, ins… https://t.co/HpJeEg2AgU@samanthamaiden Hey @ScottMorrisonMP\\n\\nIn QLD it\\'s the #Liberal #National Party.\\n\\nThis isn\\'t just @The_Nationals, it… https://t.co/udb5J9Tp9TRT @BryarDaniel: @williedean15 @JanneanDean @YaThinkN @LaborWide @Effin_Q @LlewOBrienMP @fraser_anning @OneNationAus ... if you like making…RT @PhoebeBowden: PM stands next to LNP MP Ken O’Dowd, who is asked if @OneNationAus or @CliveFPalmer’s party should be last? “Oh, that\\'s e…RT @TheNationalsVic: Thanks to Tim Fischer for opening Mark Byatt for Indi campaign office in Wodonga today.\\nHe’s right….we’re are now ente…I\\'m voting @VoteSustainable in the Senate to change the rules.  \\nWe need #industrypolicy and to lessen the tsunami… https://t.co/66Z8Pr9epWRT @MRobertsQLD: There is a real possibility that SHY will be replaced in the Senate with @OneNationAus Jennifer Game\\n\\n\"It horrifies me tha…RT @helen_it: Vote 1 Sustainable Australia in the Federal election. Please. Preference whoever you want after that, but put Sustainable Aus…@CraigHillNet @VoteSustainableDid anyone grab a cambridge analytica Decision support system? @Greens @piratepartyau @SciencePartyAus… https://t.co/0y2zJzBBju@Lorrain86191635 @SEP_Australia @jaraparilla @WSWS_Updates @Scottludlam @AndrewBartlett @RichardDiNatale @Greens Ye… https://t.co/rAOmX5QDwFRT @TheNationalsVic: Thanks to Tim Fischer for opening Mark Byatt for Indi campaign office in Wodonga today.\\nHe’s right….we’re are now ente…RT @PhoebeBowden: PM stands next to LNP MP Ken O’Dowd, who is asked if @OneNationAus or @CliveFPalmer’s party should be last? “Oh, that\\'s e…KALGOORLIE | Always great to catch up with some proud @OneNationAus supporters in @CityofKalBould \\n\\n#Auspol… https://t.co/GMUvtDjRkiRT @bamboozled3: Yeah but....you\\'re happy to do a preference deal with @OneNationAus even after their leader stands for Pt Arthur conspirac…RT @SenatorGeorgiou: KALGOORLIE | Always great to catch up with some proud @OneNationAus supporters in @CityofKalBould \\n\\n#Auspol #OneNation…RT @PhoebeBowden: PM stands next to LNP MP Ken O’Dowd, who is asked if @OneNationAus or @CliveFPalmer’s party should be last? “Oh, that\\'s e…RT @PhoebeBowden: PM stands next to LNP MP Ken O’Dowd, who is asked if @OneNationAus or @CliveFPalmer’s party should be last? “Oh, that\\'s e…RT @SenatorGeorgiou: KALGOORLIE | Always great to catch up with some proud @OneNationAus supporters in @CityofKalBould \\n\\n#Auspol #OneNation…Noticeably absent are One Nation candidates. Whether this is a reflection of good judgement on behalf of ON , or si… https://t.co/nDZ0zKvU05RT @SenatorGeorgiou: KALGOORLIE | Always great to catch up with some proud @OneNationAus supporters in @CityofKalBould \\n\\n#Auspol #OneNation…RT @JohnJon57197743: @zephyr9673 @OddemocracyA @Greens @piratepartyau @AustralianLabor @SciencePartyAus @voteflux like these Lberal Party b…@AgForceQLD @GeorgieSomerset @The_Nationals @OneNationAus @Greens @KattersAusParty Go guys.. all the best..@PearceJoh @SenatorGeorgiou @MRobertsQLD @OneNationAus @CityofKalBould @AupolNews @KalgoorlieMiner @PaulineHansonOz… https://t.co/qMfDK8UIhjRT @VoteSustainable: Not the Greens - new party with a new attitude https://t.co/FHRdy6l2CU\\n\\n\"We\\'re an independent community party from the…RT @PearceJoh: @SenatorGeorgiou @MRobertsQLD @OneNationAus @CityofKalBould @AupolNews @KalgoorlieMiner @PaulineHansonOz @RodCaddies @SteveD…@PearceJoh @jethroq @SenatorGeorgiou @MRobertsQLD @OneNationAus @CityofKalBould @AupolNews @KalgoorlieMiner… https://t.co/Mlo5eU6viK@fuzzylicious2 @PearceJoh @SenatorGeorgiou @MRobertsQLD @OneNationAus @CityofKalBould @AupolNews @KalgoorlieMiner… https://t.co/CXwRASsTHx@GregoryJohnJen1 @Qldaah @TonyHWindsor @The_Nationals @GrantschultzNSW Nowra is unchanged from how it was before Ho… https://t.co/JtYvh5Bmbq@PearceJoh @fuzzylicious2 @SenatorGeorgiou @MRobertsQLD @OneNationAus @CityofKalBould @AupolNews @KalgoorlieMiner… https://t.co/xwS8trV0y9@4Centrism @simonahac @mirandadevine Shooters Fishers &amp;Farmers (@sffAustralia) are a populist party with policy cre… https://t.co/BhtSjRExv1@PearceJoh @fuzzylicious2 @SenatorGeorgiou @MRobertsQLD @OneNationAus @CityofKalBould @AupolNews @KalgoorlieMiner… https://t.co/PQFfGqT9pE@PearceJoh @jethroq @SenatorGeorgiou @MRobertsQLD @OneNationAus @CityofKalBould @AupolNews @KalgoorlieMiner… https://t.co/m5Zdzaynse@ZubSpike @Nynaeve5 @UnspokenWordRB @fraser_anning @AuConservatives @OneNationAus Fraser has had his day and blew i… https://t.co/3XSu4n0DSl@PearceJoh @jethroq @SenatorGeorgiou @MRobertsQLD @OneNationAus @CityofKalBould @AupolNews @KalgoorlieMiner… https://t.co/xnNZVhKIKART @MRobertsQLD: There is a real possibility that SHY will be replaced in the Senate with @OneNationAus Jennifer Game\\n\\n\"It horrifies me tha…@PearceJoh @jethroq @SenatorGeorgiou @MRobertsQLD @OneNationAus @CityofKalBould @AupolNews @KalgoorlieMiner… https://t.co/82SnjH8ksa@VoteSustainable That\\'s a weird angle to take, and insulting to sensible greens. What is \\'the centre\\'? Is it OK to… https://t.co/uQRYu7tRuZ@PearceJoh @jethroq @SenatorGeorgiou @MRobertsQLD @OneNationAus @CityofKalBould @AupolNews @KalgoorlieMiner… https://t.co/Igj66e0VEM@PearceJoh @jethroq @SenatorGeorgiou @MRobertsQLD @OneNationAus @CityofKalBould @AupolNews @KalgoorlieMiner… https://t.co/ckAC30DZ4L@PearceJoh @jethroq @SenatorGeorgiou @MRobertsQLD @OneNationAus @CityofKalBould @AupolNews @KalgoorlieMiner… https://t.co/jbt5BBZAXy@PearceJoh @jethroq @SenatorGeorgiou @MRobertsQLD @OneNationAus @CityofKalBould @AupolNews @KalgoorlieMiner… https://t.co/MWcW97BomaRT @TheNationalsVic: Thanks to Tim Fischer for opening Mark Byatt for Indi campaign office in Wodonga today.\\nHe’s right….we’re are now ente…RT @VoteSustainable: Why immigration is soaring in Australia despite promises to cut number https://t.co/90yNNaudw3 via @MailOnline\\n\\nA #Sus…RT @PhoebeBowden: PM stands next to LNP MP Ken O’Dowd, who is asked if @OneNationAus or @CliveFPalmer’s party should be last? “Oh, that\\'s e…@MortyAU @PearceJoh @jonal665 @quinkancountry @SenatorGeorgiou @MRobertsQLD @OneNationAus @CityofKalBould… https://t.co/lljtP75n9dRT @CharlesSmithMLC: \"I honestly thought the Coalition’s immigration policies couldn’t get any dumber. I was wrong. Its policies are defini…@SkyNewsAust @GemmaTognini @billshortenmp Is this to deflect on how both the .@LiberalAus @The_Nationals are on the… https://t.co/fzJzqDAgsh@MissDissentEats @OneNationAus @PennySharpemlc @SenatorWong There are lots of blokes like him out there. Unfortunately.RT @JohnJon57197743: @zephyr9673 @OddemocracyA @Greens @piratepartyau @AustralianLabor @SciencePartyAus @voteflux like these Lberal Party b…RT @AgForceQLD: Agriculture: Growing Australia 2019 Federal Election Priorities campaign launch is Monday in Rocky. So far confirmed for th…RT @zephyr9673: Even though there is no other party competent enough to produce actual forward strategic policy, I still feel the need to u…@PetraAu @VoteSustainable @MailOnline Its definately changed Sydney for the worse.Just listening to the Brazilians… https://t.co/wiAG7aFQrYRT @PhoebeBowden: PM stands next to LNP MP Ken O’Dowd, who is asked if @OneNationAus or @CliveFPalmer’s party should be last? “Oh, that\\'s e…RT @zephyr9673: And @SciencePartyAus @piratepartyau @OddemocracyA @voteflux  we have seen labor in power we have seen Labor green, I am for…RT @zephyr9673: Did anyone grab a cambridge analytica Decision support system? @Greens @piratepartyau @SciencePartyAus @OddemocracyA #Flux…@dewalke @simonahac @mirandadevine @sffAustralia What? Like a million dead fish and rural towns with water so dirty… https://t.co/vmx4lum1wlRT @PhoebeBowden: PM stands next to LNP MP Ken O’Dowd, who is asked if @OneNationAus or @CliveFPalmer’s party should be last? “Oh, that\\'s e…RT @PhoebeBowden: PM stands next to LNP MP Ken O’Dowd, who is asked if @OneNationAus or @CliveFPalmer’s party should be last? “Oh, that\\'s e…RT @Change_Record: Today Change the Record welcomes the commitments from the Australian Labor Party and the Australian Greens to address cr…@fraser_anning Both of the major parties are globalist scum.Even the Nationals have lost their way.The conservative… https://t.co/9r6z4SmNWWRT @virgotweet: @BelindaJones68 @SenatorWong Liberals - Nationals - Conservative - All tarred with the same brushRT @PhoebeBowden: PM stands next to LNP MP Ken O’Dowd, who is asked if @OneNationAus or @CliveFPalmer’s party should be last? “Oh, that\\'s e…RT @PhoebeBowden: PM stands next to LNP MP Ken O’Dowd, who is asked if @OneNationAus or @CliveFPalmer’s party should be last? “Oh, that\\'s e…RT @southwin28: @PatsKarvelas @PhillipCoorey Considering that the whole purpose of the Liberal Party was to keep Labor out of Government, i…RT @PhoebeBowden: PM stands next to LNP MP Ken O’Dowd, who is asked if @OneNationAus or @CliveFPalmer’s party should be last? “Oh, that\\'s e…@MortyAU @PearceJoh @jonal665 @quinkancountry @SenatorGeorgiou @MRobertsQLD @OneNationAus @CityofKalBould… https://t.co/vbdnoReIzs@jonal665 @MortyAU @PearceJoh @quinkancountry @SenatorGeorgiou @MRobertsQLD @OneNationAus @CityofKalBould… https://t.co/89jcrJibCcRT @WINNews_Tas: A preference deal between @The_Nationals &amp; @OneNationAus has grabbed the headlines in Tasmania. @swegen31 interviewed @Sen…RT @VoteSustainable: Not the Greens - new party with a new attitude https://t.co/FHRdy6l2CU\\n\\n\"We\\'re an independent community party from the…RT @PhoebeBowden: PM stands next to LNP MP Ken O’Dowd, who is asked if @OneNationAus or @CliveFPalmer’s party should be last? “Oh, that\\'s e…RT @Middleton_Says: \"Best served by the silence of the dysfunctional and damaged\" is a direct reference to Barnaby Joyce. The person that s…RT @JohnJon57197743: @zephyr9673 @OddemocracyA @Greens @piratepartyau @AustralianLabor @SciencePartyAus @voteflux like these Lberal Party b…RT @VoteSustainable: Clive Palmer seeks approval for \\'monster mine\\' next door to Adani https://t.co/HvFwL3HRPK via @ABCNews\\n\\nGALILEE BASIN…@jonal665 @PearceJoh @MortyAU @quinkancountry @SenatorGeorgiou @MRobertsQLD @OneNationAus @CityofKalBould… https://t.co/oJxgzp4X5oRT @zephyr9673: Did anyone grab a cambridge analytica Decision support system? @Greens @piratepartyau @SciencePartyAus @OddemocracyA #Flux…RT @CharlesSmithMLC: \"I honestly thought the Coalition’s immigration policies couldn’t get any dumber. I was wrong. Its policies are defini…RT @zephyr9673: And @SciencePartyAus @piratepartyau @OddemocracyA @voteflux  we have seen labor in power we have seen Labor green, I am for…RT @VoteSustainable: Not the Greens - new party with a new attitude https://t.co/FHRdy6l2CU\\n\\n\"We\\'re an independent community party from the…@ReichHarry We have to stop importing them,  We have more than enough now.  \\n@fraser_anning @ScottMorrisonMP @OneNationAus @PaulineHansonOz@PearceJoh @jonal665 @MortyAU @quinkancountry @SenatorGeorgiou @MRobertsQLD @OneNationAus @CityofKalBould… https://t.co/u12mjG8JxB@PearceJoh @jonal665 @MortyAU @quinkancountry @SenatorGeorgiou @MRobertsQLD @OneNationAus @CityofKalBould… https://t.co/xgWAVkXal9@PearceJoh @jonal665 @MortyAU @quinkancountry @SenatorGeorgiou @MRobertsQLD @OneNationAus @CityofKalBould… https://t.co/qYVLWXmsYhRT @GregoryJohnJen1: @nkmccallum @Qldaah @TonyHWindsor @The_Nationals @GrantschultzNSW That\\'s why I suggest give the independent a go. The…@PearceJoh @jonal665 @MortyAU @quinkancountry @SenatorGeorgiou @MRobertsQLD @OneNationAus @CityofKalBould… https://t.co/cfEo8KRLrlRT @GregoryJohnJen1: @Qldaah If there is a lesson to be learnt. Please #GilmoreVoters look back at what @TonyHWindsor achieved at state/fed…@hughiechops @SciencePartyAus @FirmanLeigh @nhmrc @CSIROnews Yes, sorry, I\\'m in biomed so that\\'s what I thought of… https://t.co/t4dBsUaQPPRT @PhoebeBowden: PM stands next to LNP MP Ken O’Dowd, who is asked if @OneNationAus or @CliveFPalmer’s party should be last? “Oh, that\\'s e…@garigalAnj @AusElectoralCom @SciencePartyAus Malcolm Turnbull couldn\\'t make a scheduled forum in Wentworth 2016. They cancelled the forum.@PearceJoh @jonal665 @MortyAU @quinkancountry @SenatorGeorgiou @MRobertsQLD @OneNationAus @CityofKalBould… https://t.co/eCKumhbuP5@PearceJoh @jonal665 @MortyAU @quinkancountry @SenatorGeorgiou @MRobertsQLD @OneNationAus @CityofKalBould… https://t.co/7UxGYtf02S@PearceJoh @MortyAU @jonal665 @quinkancountry @SenatorGeorgiou @MRobertsQLD @OneNationAus @CityofKalBould… https://t.co/NB9tt6O0ZQ@PearceJoh @MortyAU @jonal665 @quinkancountry @SenatorGeorgiou @MRobertsQLD @OneNationAus @CityofKalBould… https://t.co/ZfIuijI4oq@MortyAU @PearceJoh @jonal665 @quinkancountry @SenatorGeorgiou @MRobertsQLD @OneNationAus @CityofKalBould… https://t.co/jWSe5c4oYa@WDick47 @LNPQLD @The_Nationals Well initially I was referring to the LNP, but you\\'re right, it\\'s probably an inacc… https://t.co/Wzzvxi4Iiw@PearceJoh @MortyAU @jonal665 @quinkancountry @SenatorGeorgiou @MRobertsQLD @OneNationAus @CityofKalBould… https://t.co/2J5LlVRNfz@PearceJoh @MortyAU @jonal665 @quinkancountry @SenatorGeorgiou @MRobertsQLD @OneNationAus @CityofKalBould… https://t.co/kl6zvhZsho@Andrea__Leong @SciencePartyAus @FirmanLeigh @nhmrc @CSIROnews Are you going to JAMS this week?@PearceJoh @MortyAU @jonal665 @quinkancountry @SenatorGeorgiou @MRobertsQLD @OneNationAus @CityofKalBould… https://t.co/P6OmBNg6y0@MortyAU @PearceJoh @jonal665 @quinkancountry @SenatorGeorgiou @MRobertsQLD @OneNationAus @CityofKalBould… https://t.co/YPZMgIV2GE@PearceJoh @MortyAU @jonal665 @quinkancountry @SenatorGeorgiou @MRobertsQLD @OneNationAus @CityofKalBould… https://t.co/gJoOJwcovV@PearceJoh @MortyAU @jonal665 @quinkancountry @SenatorGeorgiou @MRobertsQLD @OneNationAus @CityofKalBould… https://t.co/gJaXQdU4Qt@PearceJoh @MortyAU @jonal665 @quinkancountry @SenatorGeorgiou @MRobertsQLD @OneNationAus @CityofKalBould… https://t.co/YIOwPKqN3t@SciencePartyAus  How can you guys dare to call yourselves Science Party without talking nothing about the immortal… https://t.co/tzuovnAzC2@PearceJoh @MortyAU @jonal665 @quinkancountry @SenatorGeorgiou @MRobertsQLD @OneNationAus @CityofKalBould… https://t.co/l9ChjMhQvh@SenatorGeorgiou @OneNationAus @CityofKalBould @AupolNews @KalgoorlieMiner @PaulineHansonOz @RodCaddies… https://t.co/AKbsG9cpk1RT @PhoebeBowden: PM stands next to LNP MP Ken O’Dowd, who is asked if @OneNationAus or @CliveFPalmer’s party should be last? “Oh, that\\'s e…RT @AgForceQLD: Agriculture: Growing Australia 2019 Federal Election Priorities campaign launch is Monday in Rocky. So far confirmed for th…@PearceJoh @b_deplorable @MortyAU @jonal665 @quinkancountry @SenatorGeorgiou @MRobertsQLD @OneNationAus… https://t.co/HF2AoMbBAO@b_deplorable @PearceJoh @MortyAU @jonal665 @quinkancountry @SenatorGeorgiou @MRobertsQLD @OneNationAus… https://t.co/zINzOxIyRIRT @VoteSustainable: Why immigration is soaring in Australia despite promises to cut number https://t.co/90yNNaudw3 via @MailOnline\\n\\nA #Sus…@b_deplorable @PearceJoh @MortyAU @jonal665 @quinkancountry @SenatorGeorgiou @MRobertsQLD @OneNationAus… https://t.co/AATNIhkLPZ@PearceJoh @b_deplorable @MortyAU @jonal665 @quinkancountry @SenatorGeorgiou @MRobertsQLD @OneNationAus… https://t.co/gmLT2NTUpO@PearceJoh @b_deplorable @MortyAU @jonal665 @quinkancountry @SenatorGeorgiou @MRobertsQLD @OneNationAus… https://t.co/jKIyKTzWL7@PearceJoh @b_deplorable @MortyAU @jonal665 @quinkancountry @SenatorGeorgiou @MRobertsQLD @OneNationAus… https://t.co/Q0D08rIh9h@b_deplorable @PearceJoh @MortyAU @jonal665 @quinkancountry @SenatorGeorgiou @MRobertsQLD @OneNationAus… https://t.co/7wXkZMnS2BRT @PhoebeBowden: PM stands next to LNP MP Ken O’Dowd, who is asked if @OneNationAus or @CliveFPalmer’s party should be last? “Oh, that\\'s e…@b_deplorable @PearceJoh @MortyAU @jonal665 @quinkancountry @SenatorGeorgiou @MRobertsQLD @OneNationAus… https://t.co/m7xPqmVPVl@PearceJoh @b_deplorable @MortyAU @jonal665 @quinkancountry @SenatorGeorgiou @MRobertsQLD @OneNationAus… https://t.co/jAKavKSCbd@hughiechops @SciencePartyAus @FirmanLeigh @nhmrc @CSIROnews Honestly, you just learned me about JAMS! I\\'d love to… https://t.co/vn4BrjYPEt@PearceJoh @b_deplorable @MortyAU @jonal665 @quinkancountry @SenatorGeorgiou @MRobertsQLD @OneNationAus… https://t.co/lI73YfiWrZ@Andrea__Leong @SciencePartyAus @FirmanLeigh @nhmrc @CSIROnews I’m interested to see what the biofoundry is about t… https://t.co/jmdWW8HITD@PearceJoh @b_deplorable @MortyAU @jonal665 @quinkancountry @SenatorGeorgiou @MRobertsQLD @OneNationAus… https://t.co/JYxfn8UDcU@PearceJoh @b_deplorable @MortyAU @jonal665 @quinkancountry @SenatorGeorgiou @MRobertsQLD @OneNationAus… https://t.co/TIbLlM1OXe@b_deplorable @PearceJoh @MortyAU @jonal665 @quinkancountry @SenatorGeorgiou @MRobertsQLD @OneNationAus… https://t.co/xdonOuDe9I@albsie @CraigHillNet Just a fine. But it’s better for democracy to be compelled to vote rather than having volunta… https://t.co/gdQkHFLUpzRT @PAIN_NET1: #SBG 14 April \\'19: “All that glisters is not gold; https://t.co/0RHBGadpfG or https://t.co/wP18qYau9X via https://t.co/YoHX2…RT @AtlasFreeRadio: @LNPQLD @The_Nationals Libs and Nats would prefer somebody who answers questions without knowing what they are talking…RT @mrliamshannon: @LNPQLD @The_Nationals Because he has the modesty to know when he’s not the most qualified to answer a question. Somethi…LIBERAL Party PREFERENCES GREENS above Fraser Anning - Mathias Cormann⁉️: This comes after the news One Nation woul… https://t.co/rHtp8UC9LtRT @PhoebeBowden: PM stands next to LNP MP Ken O’Dowd, who is asked if @OneNationAus or @CliveFPalmer’s party should be last? “Oh, that\\'s e…Why do we think post 18 May will be business as usual for Cliques &amp; Gravy Trains with Exclusive Catering for the Bo… https://t.co/PiUFg5qnFZ@billshortenmp Hey Bill which way are you swinging with adani? The @Greens don’t want it, but the unions do? A yes… https://t.co/ToJz8BSsxE@SkyNewsAust @ScottMorrisonMP But LNP still has an unacceptably high immigration target and will flood Australia wi… https://t.co/GBqyDw6Zeu@OneNationAus   How does it feel , to be used and conned for your vote by the Liberals , look where  it got you,  L… https://t.co/gDnsSrsa6ERT @ipatch169: @OneNationAus   How does it feel , to be used and conned for your vote by the Liberals , look where  it got you,  LAST  ON T…@SkyNewsAust @billshortenmp After all we know where the money’s come from in the last 6 yrs AUSTRALIA HAS NEVER BEE… https://t.co/opM9PXi8Ze@SciencePartyAus @simonahac @AlexWodak Some kind of joker party thenRT @CharlesSmithMLC: \"I honestly thought the Coalition’s immigration policies couldn’t get any dumber. I was wrong. Its policies are defini…If the @LiberalAus &amp; @The_Nationals are running a scare campaign about @AustralianLabor introducing death duties yo… https://t.co/nccxPrxAaTRT @SEP_Australia: TODAY - Sydney #FreeAssangeRally 11am. Let friends and family know about the event, attend!\\n\\n#ProtectJulian #FreeAssange…RT @VoteSustainable: Clive Palmer seeks approval for \\'monster mine\\' next door to Adani https://t.co/HvFwL3HRPK via @ABCNews\\n\\nGALILEE BASIN…@VoteSustainable @abcnews that\\'s four Party\\'s shillin\\' for Galilee coal n gas ..@macsween_prue @ScottMorrisonMP @OneNationAus @billshortenmp @AustralianLabor A deal with OneNation is a deal with… https://t.co/5VtLXQrTFcRT @macsween_prue: Glad @ScottMorrisonMP has done a deal with Palmer’s Party.  He should do the same with @OneNationAus   Whatever it takes…RT @macsween_prue: Glad @ScottMorrisonMP has done a deal with Palmer’s Party.  He should do the same with @OneNationAus   Whatever it takes…@CharlesSmithMLC @PaulineHansonOz @OneNationAus Amazing how many people don\\'t realise this.RT @macsween_prue: Glad @ScottMorrisonMP has done a deal with Palmer’s Party.  He should do the same with @OneNationAus   Whatever it takes…@selffunded12 @macsween_prue @ScottMorrisonMP @OneNationAus @billshortenmp @AustralianLabor As long as it stops the… https://t.co/Ed6LtUwbSTRT @macsween_prue: Glad @ScottMorrisonMP has done a deal with Palmer’s Party.  He should do the same with @OneNationAus   Whatever it takes…@macsween_prue @ScottMorrisonMP @OneNationAus @billshortenmp @AustralianLabor Totally AgreeRT @macsween_prue: Glad @ScottMorrisonMP has done a deal with Palmer’s Party.  He should do the same with @OneNationAus   Whatever it takes…RT @VoteSustainable: Clive Palmer seeks approval for \\'monster mine\\' next door to Adani https://t.co/HvFwL3HRPK via @ABCNews\\n\\nGALILEE BASIN…RT @CharlesSmithMLC: \"I honestly thought the Coalition’s immigration policies couldn’t get any dumber. I was wrong. Its policies are defini…RT @1958_BestYear: @AngusTaylorMP Holden Ford Toyota were certainly on the @LiberalAus @The_Nationals hit list. They destroyed manufacturin…@macsween_prue @ScottMorrisonMP @OneNationAus @billshortenmp @AustralianLabor Absolutely 100% agree@macsween_prue @ScottMorrisonMP @OneNationAus @billshortenmp @AustralianLabor Wow you really are an entitled ignorant has been!RT @macsween_prue: Glad @ScottMorrisonMP has done a deal with Palmer’s Party.  He should do the same with @OneNationAus   Whatever it takes…@macsween_prue @ScottMorrisonMP @OneNationAus @billshortenmp @AustralianLabor Haha- Prue you’re mental.Is #NewEnglandVotes a safe seat for @Barnaby_Joyce and @The_Nationals ?@TonyHWindsor @adamblakester @markrodda… https://t.co/qMjtSXmrLs@macsween_prue @ScottMorrisonMP @OneNationAus @billshortenmp @AustralianLabor But @ScottMorrisonMP is putting… https://t.co/4BJX0kEFfW@Jane9873 @macsween_prue @ScottMorrisonMP @OneNationAus @billshortenmp @AustralianLabor When no one wants to invest… https://t.co/0CPz0hutqv@AllyFarmer6 @RodCaddies @SenatorGeorgiou @PaulineHansonOz @AustralianLabor @LiberalAus @TheNationalsWA… https://t.co/RdNLTbE4gwRT @PhoebeBowden: PM stands next to LNP MP Ken O’Dowd, who is asked if @OneNationAus or @CliveFPalmer’s party should be last? “Oh, that\\'s e…RT @1958_BestYear: @AngusTaylorMP Holden Ford Toyota were certainly on the @LiberalAus @The_Nationals hit list. They destroyed manufacturin…@William_Bourke @VoteSustainable Voters do decide. There is no such thing as a preference deal. When a voter decide… https://t.co/OT4uCQdbqJ@ausgirlhere @audreygrace83 @ScottMorrisonMP @PeterDutton_MP @OneNationAus @fraser_anning @corybernardi Couldn\\'t agree more.RT @SocialistAllnce: There is a lot that is very wrong with the polices of the major parties for rural and regional policies. There\\'s #wate…RT @macsween_prue: Glad @ScottMorrisonMP has done a deal with Palmer’s Party.  He should do the same with @OneNationAus   Whatever it takes…RT @macsween_prue: Glad @ScottMorrisonMP has done a deal with Palmer’s Party.  He should do the same with @OneNationAus   Whatever it takes…RT @macsween_prue: Glad @ScottMorrisonMP has done a deal with Palmer’s Party.  He should do the same with @OneNationAus   Whatever it takes…@SocialistAllnce A move back to a policy of full employment with a government as employer of last resort would be a… https://t.co/aMGrJrSqU5RT @SocialistAllnce: Australia still refuses to officially acknowledge &amp; respect the frontier wars that came with European colonisation of…RT @macsween_prue: Glad @ScottMorrisonMP has done a deal with Palmer’s Party.  He should do the same with @OneNationAus   Whatever it takes…RT @1958_BestYear: @AngusTaylorMP Holden Ford Toyota were certainly on the @LiberalAus @The_Nationals hit list. They destroyed manufacturin…@MatthewBevan Try some journalism Matt. Here’s a good topic:\\nAdd #watergate #christmasisland #GBRF #PaladinAffair… https://t.co/rDHZW3o7VC@macsween_prue @ScottMorrisonMP @OneNationAus @AustralianLabor Yes.  Agree.RT @1958_BestYear: @AngusTaylorMP Holden Ford Toyota were certainly on the @LiberalAus @The_Nationals hit list. They destroyed manufacturin…RT @macsween_prue: Glad @ScottMorrisonMP has done a deal with Palmer’s Party.  He should do the same with @OneNationAus   Whatever it takes…@colonelhogans When the LNP ,ALP don\\'t listen to constituents on migration, but push huge migration numbers at the… https://t.co/pvkJFXZqZr@macsween_prue @rugby_whisperer @ScottMorrisonMP @OneNationAus @billshortenmp @AustralianLabor LOL. “Whatever it ta… https://t.co/aIQLdVL7UORT @macsween_prue: Glad @ScottMorrisonMP has done a deal with Palmer’s Party.  He should do the same with @OneNationAus   Whatever it takes…RT @davesgas: People are waking up that their environment is dying, and @The_Nationals will get a rude shock in #Parkes - no vision for our…RT @davesgas: People are waking up that their environment is dying, and @The_Nationals will get a rude shock in #Parkes - no vision for our…@BreakfastNews the gods be with us @ScottMorrisonMP &amp; his band of @The_Nationals disciples of doom... news feed cut… https://t.co/W9vEOonLxNRT @1958_BestYear: @AngusTaylorMP Holden Ford Toyota were certainly on the @LiberalAus @The_Nationals hit list. They destroyed manufacturin…@MillarRoyce @VoteSustainable @theage No they are not@AllyFarmer6 @AndrewMainey @SenatorGeorgiou @PaulineHansonOz @AustralianLabor @LiberalAus @TheNationalsWA… https://t.co/SrAUAwuxau@TonyHWindsor offhand do u know minimum number of seats @The_Nationals need to win to retain official Party status… https://t.co/M4lwqGoRhk@vmainard @SkyNewsAust @AustralianLabor @AustralianLabor is no saint that’s for sure, but after the mess that… https://t.co/PbmYyMfbwiRT @macsween_prue: Glad @ScottMorrisonMP has done a deal with Palmer’s Party.  He should do the same with @OneNationAus   Whatever it takes…RT @macsween_prue: Glad @ScottMorrisonMP has done a deal with Palmer’s Party.  He should do the same with @OneNationAus   Whatever it takes…RT @1958_BestYear: @AngusTaylorMP Holden Ford Toyota were certainly on the @LiberalAus @The_Nationals hit list. They destroyed manufacturin…@macsween_prue @ScottMorrisonMP @OneNationAus @billshortenmp @AustralianLabor Yep you lot would jump into bed with anyone!RT @macsween_prue: Glad @ScottMorrisonMP has done a deal with Palmer’s Party.  He should do the same with @OneNationAus   Whatever it takes…@macsween_prue @ScottMorrisonMP @OneNationAus @billshortenmp @AustralianLabor we just dont need commie bill and his crooked mates@CaptGetUp To be fair,  their main accounts - @PaulineHansonOz and @OneNationAus - have a few more.@AllyFarmer6 @RodCaddies @SenatorGeorgiou @PaulineHansonOz @AustralianLabor @LiberalAus @TheNationalsWA… https://t.co/8Jvfc5lcxo@SenatorGeorgiou @AustralianLabor @LiberalAus @TheNationalsWA @PaulineHansonOz @CharlesSmithMLC @MRobertsQLD… https://t.co/2EowkkKrRzRT @SenatorGeorgiou: KALGOORLIE | Always great to catch up with some proud @OneNationAus supporters in @CityofKalBould \\n\\n#Auspol #OneNation…RT @The_Nationals: We\\'ve made it a national priority to build support for drought-stricken communities.\\n\\nWe’ve committed $6.3 billion in im…RT @macsween_prue: Glad @ScottMorrisonMP has done a deal with Palmer’s Party.  He should do the same with @OneNationAus   Whatever it takes…@The_Nationals Support is great but it’s also a bandaid. Barnaby’s role in the Murray Darling Basement and… https://t.co/ocqVmndtOMRT @SEP_Australia: Watch the livestream of our rally to demand Julian Assange’s freedom on the SEP Australia Facebook page. Starting soon.…RT @The_Nationals: We\\'ve made it a national priority to build support for drought-stricken communities.\\n\\nWe’ve committed $6.3 billion in im…@jtparker72 @vmainard @SkyNewsAust @AustralianLabor @LiberalAus @The_Nationals What mess, oh that is right the mess… https://t.co/GiijxLXyEcRT @macsween_prue: Glad @ScottMorrisonMP has done a deal with Palmer’s Party.  He should do the same with @OneNationAus   Whatever it takes…RT @VoteSustainable: Clive Palmer seeks approval for \\'monster mine\\' next door to Adani https://t.co/HvFwL3HRPK via @ABCNews\\n\\nGALILEE BASIN…RT @macsween_prue: Glad @ScottMorrisonMP has done a deal with Palmer’s Party.  He should do the same with @OneNationAus   Whatever it takes…@macsween_prue @ScottMorrisonMP @OneNationAus @billshortenmp @AustralianLabor Exactly Prue !  To quote Richo    “ W… https://t.co/JkdClv1W0yRT @VoteSustainable: Clive Palmer seeks approval for \\'monster mine\\' next door to Adani https://t.co/HvFwL3HRPK via @ABCNews\\n\\nGALILEE BASIN…@jtparker72 @vmainard @SkyNewsAust @AustralianLabor @LiberalAus @The_Nationals The reef is actually found out to be… https://t.co/SYNagcJqexPing @SenatorGeorgiou @PaulineHansonOz @MRobertsQLD @OneNationAusRT @1958_BestYear: @mattjcan Will @ScottMorrisonMP match @billshortenmp commitment that NO TAXPAYERS DOLLARS WILL GO TO #ADANI\\n No he can\\'t…RT @The_Nationals: We\\'ve made it a national priority to build support for drought-stricken communities.\\n\\nWe’ve committed $6.3 billion in im…@GladysB @JohnBarilaroMP Let’s talk about pausing or ending the #MurrayDarling basinplan that’s depopulated the tow… https://t.co/VeEbD1UbdMRT @The_Nationals: We\\'ve made it a national priority to build support for drought-stricken communities.\\n\\nWe’ve committed $6.3 billion in im…@macsween_prue @ScottMorrisonMP @OneNationAus @billshortenmp @AustralianLabor They cut off their nose to spite thei… https://t.co/CPMzW6GH2uRT @VoteSustainable: We need better #planning to STOP overdevelopment. #auspol #ausvotes https://t.co/1HP1R3ihuL@AllyFarmer6 @AndrewMainey @SenatorGeorgiou @PaulineHansonOz @AustralianLabor @LiberalAus @TheNationalsWA… https://t.co/Dzf43fOHhn@AllyFarmer6 @RodCaddies @AndrewMainey @SenatorGeorgiou @PaulineHansonOz @AustralianLabor @LiberalAus… https://t.co/axBdjk7LQK@The_Nationals It\\'s telling the truth and stop being the Liberal Parties lackie. Grow a set and dissolve the coalition.RT @SEP_Australia: Watch the livestream of our rally to demand Julian Assange’s freedom on the SEP Australia Facebook page. Starting soon.…RT @The_Nationals: We\\'ve made it a national priority to build support for drought-stricken communities.\\n\\nWe’ve committed $6.3 billion in im…RT @The_Nationals: Agriculture is more than big hats &amp; boots. \\n\\n✅ It’s a high-tech industry with an exciting future\\n\\n✅ It’s producing the f…@balcombebob @macsween_prue @ScottMorrisonMP @OneNationAus @billshortenmp @AustralianLabor Nazis? The Lunatics that… https://t.co/KhyrT9NEniRT @macsween_prue: Glad @ScottMorrisonMP has done a deal with Palmer’s Party.  He should do the same with @OneNationAus   Whatever it takes…RT @mswarriorLMS: Is #NewEnglandVotes a safe seat for @Barnaby_Joyce and @The_Nationals ?@TonyHWindsor @adamblakester @markrodda @ArmidaleE…@The_Nationals About time @The_Nationals  we have plenty of water in Australia but not captured, it simply runs out… https://t.co/odE1644cutRT @The_Nationals: Agriculture is more than big hats &amp; boots. \\n\\n✅ It’s a high-tech industry with an exciting future\\n\\n✅ It’s producing the f…@The_Nationals Mmm tasty handouts and welfare.@smh ALP tried to get a deal with Palmer. They failed. If ALP/GREENS coalition wins the election we will have the m… https://t.co/JaJH0UrFa7RT @The_Nationals: We will progress the recommendations of the FHA Review with the agricultural sector, including making the FHA available…RT @The_Nationals: Farmers are unlike other recipients of government support. \\n\\nThey have a full-time business to run, livestock to care fo…RT @The_Nationals: Agriculture is more than big hats &amp; boots. \\n\\n✅ It’s a high-tech industry with an exciting future\\n\\n✅ It’s producing the f…@AuSenate @AboutTheHouse @OneNationAus @PaulineHansonOz @RealMarkLatham @MRobertsQLD @Aust_Parliament… https://t.co/LUZWxio01bRT @AgForceQLD: Agriculture: Growing Australia 2019 Federal Election Priorities campaign launch is Monday in Rocky. So far confirmed for th…@simonahac You can also look to some of the quality minor parties like @reasonaustralia  who are running excellent… https://t.co/YBFXPhdUoDRT @macsween_prue: Glad @ScottMorrisonMP has done a deal with Palmer’s Party.  He should do the same with @OneNationAus   Whatever it takes…RT @StephanHolmes6: With the dregs of society @PaulineHansonOz\\nattracts as candidates, how can people actually vote for @OneNationAus?\\nThey…Am running4 Kingsford Smith in upcoming Australian Federal Election. Would these 1984 Charles Jourdan’s look good w… https://t.co/SndrQD9cgA@AllyFarmer6 @RodCaddies @SenatorGeorgiou @PaulineHansonOz @AustralianLabor @LiberalAus @TheNationalsWA… https://t.co/wNxENtDqRsRT @1958_BestYear: @AngusTaylorMP Holden Ford Toyota were certainly on the @LiberalAus @The_Nationals hit list. They destroyed manufacturin…RT @The_Nationals: We believe a vocational education is just as valuable as a uni degree. \\n\\nWe’re strengthening the VET sector through the…@michaeldyer123 @The_Nationals @M_McCormackMP @TonyHWindsor @The_NDL @PRIME7Tamworth Good question.\\n\\nAre the NATS t… https://t.co/hX7mQRWhns@macsween_prue @ScottMorrisonMP @OneNationAus @billshortenmp @AustralianLabor There\\'s a concise term for this type… https://t.co/C1WSR320Dp@Honeputu @macsween_prue @ScottMorrisonMP @OneNationAus @billshortenmp @AustralianLabor Reporter? No mate she\\'s not… https://t.co/C5ppCqRl9OIn Australia the reality of Islamic Invasion is real. Vote @OneNationAus and save your own Life.🇦🇺😎🇦🇺 https://t.co/FXjrMQet8i@Honeputu @macsween_prue @ScottMorrisonMP @OneNationAus @billshortenmp @AustralianLabor Like Latham, an irreverent… https://t.co/dycRNxXhnh#auspol #auspolvotes2019 \\n\\nTime for all farmers to make a stand and drop unworthy @The_Nationals politicians.… https://t.co/eznLnAx8R4RT @macsween_prue: Glad @ScottMorrisonMP has done a deal with Palmer’s Party.  He should do the same with @OneNationAus   Whatever it takes…@The_Nationals The Nats.are bunch of hillbillies.They only realised that there was a drought in August 2018 .Thats… https://t.co/CkrmrT9GRk@lyntaylor400 @michaeldyer123 @The_Nationals @M_McCormackMP @TonyHWindsor @The_NDL @PRIME7Tamworth @Barnaby_Joyce S… https://t.co/QXu8Q5y2vdSo, you cut pay to the most vulnerable, and they were barely audible. If @AustralianLabor was serious about ending… https://t.co/T7M32ynL3U@TonyHWindsor @The_Nationals Thank you@Greens @OddemocracyA @piratepartyau @SciencePartyAus @voteflux haven\\'t seen much of your on my @abcnews ? https://t.co/lZj2fAoZur#auspol #AusVotes2019 And some more serious, considered commentary on the absurd notion that @LiberalAus/… https://t.co/p1gYgo6UCtRT @SEP_Australia: #FreeAssangeRally live from Sydney now -\\n\\nhttps://t.co/AJWJNctMIL\\n\\n#ProtectJulian #FreeAssange https://t.co/V6m9Zhtmuy@macsween_prue @TheGreenParty @GetUp Vote @OneNationAus and destroy the Corrupt 2 party Cabal.@QandA @australian Is been festering amongst the greens and the left of labor for the last 10 years . Also in acade… https://t.co/6wscrm0oTeRT @macsween_prue: Glad @ScottMorrisonMP has done a deal with Palmer’s Party.  He should do the same with @OneNationAus   Whatever it takes…Essential viewing\\nI do hope @Barnaby_Joyce watches this, clearly these people have been hurt by @The_Nationals lack… https://t.co/qrnUJaLQALYes. And quality candidates at Sustainable Australia too @VoteSustainable A party with a suite of ESD based policie… https://t.co/3TVFjIZpNS@The_Nationals It is difficult for the next generation to get excited about a career in agriculture when all they s… https://t.co/oQPhClPpAoLabor made Murdocracy, had the chance to change it, didn\\'t still not plan to limit media ownership and extend… https://t.co/nM2Dbqun2tRT @macsween_prue: Glad @ScottMorrisonMP has done a deal with Palmer’s Party.  He should do the same with @OneNationAus   Whatever it takes…A person\\'s right to own guns is negated by other people\\'s rights not to be shot by them. #auspol @OneNationAusRT @susan_bowes: AT LAST! A party willing to tackle population growth that\\'s pro-migrant and non-racist @VoteSustainable\\u2069 #SustainableAustr…@mnxmoosi @LiberalAus @The_Nationals @ScottMorrisonMP #IDontLikeScottMorrison@macsween_prue @ScottMorrisonMP @OneNationAus @billshortenmp @AustralianLabor Precisely#Election19 @TheIPA\\'s scomo Shear Clicking @The_Nationals by @phudsonink https://t.co/biviTn1hDN… https://t.co/UiLLE14K7y@SenatorHume If you vote for any major party in Australia you are endorsing FGM and Sharia Law. The only consistent… https://t.co/3I3jaPmUq3\"Senior cabinet minister Mathias Cormann said Senator Anning\\'s  Conservative Nationals would be last except in seat… https://t.co/I90AST7cFSRT @OddemocracyA: @zephyr9673 @Greens @piratepartyau @SciencePartyAus @voteflux @abcnews No surprise there. Money and power make the world…RT @zephyr9673: Labor made Murdocracy, had the chance to change it, didn\\'t still not plan to limit media ownership and extend #Freedom of t…RT @1958_BestYear: @mattjcan Will @ScottMorrisonMP match @billshortenmp commitment that NO TAXPAYERS DOLLARS WILL GO TO #ADANI\\n No he can\\'t…@PetefromHayNSW @inga_ding @billshortenmp @Greens @JulianBurnside @ScottMorrisonMP @Ayaan @theheraldsun @sunriseon7… https://t.co/FNwqNhM37A@DocAvvers @sffAustralia @KAPteam Scary, awful stuff. The only, only good thing about this grotesque \"party\" runnin… https://t.co/zNLLwFDV8XRT @southwin28: @PatsKarvelas @PhillipCoorey Considering that the whole purpose of the Liberal Party was to keep Labor out of Government, i…@PetraAu @VoteSustainable You\\'ve kept shoes you\\'ve had since 1984?\\nHmmm... maybe I should take a look in my own wardrobe.@NathanDunning @inga_ding @billshortenmp @Greens @JulianBurnside @ScottMorrisonMP @Ayaan @theheraldsun @sunriseon7… https://t.co/rQCIzgPFhNEssentially, this is what @ScottMorrisonMP has signed up for. A vote for a @LiberalAus, @The_Nationals,… https://t.co/CJuVjjpfMzRT @davesgas: People are waking up that their environment is dying, and @The_Nationals will get a rude shock in #Parkes - no vision for our…@tdclancy @VoteSustainable Quality and classic: doesn’t age. But do shrink! Can’t fit into them anymore!@fraser_anning Is there a Tassie candidate for the Conservative Nationals? Or can we just vote 1 Conservative Natio… https://t.co/JF29pjwe0Q@HanSinclair @THOMPSONP1950 @SBSNews Vote @OneNationAus and save your own life.🇦🇺😎🇦🇺#BanIslam@AngusTaylorMP Are my guns on YOUR hit list? Vote 1, minor party, 2nd last @The_Nationals then @Greens last.RT @macsween_prue: Glad @ScottMorrisonMP has done a deal with Palmer’s Party.  He should do the same with @OneNationAus   Whatever it takes…@The_Nationals Two all beef patties, special sauce, lettuce, cheese, pickles, onions on a sesame seed bun.\\nTell the… https://t.co/FK45d0Z4aW@macsween_prue @ScottMorrisonMP @OneNationAus @billshortenmp @AustralianLabor Good one Prue. Don\\'t forget Fraser An… https://t.co/eXrUL3Wad6@Honeputu @macsween_prue @ScottMorrisonMP @OneNationAus @billshortenmp @AustralianLabor You mean he has no policies… https://t.co/yPs3sPWFRn@macsween_prue @ScottMorrisonMP @OneNationAus @billshortenmp @AustralianLabor All that Botox has finally eaten through, huh Darl?@The_Nationals your leader was asked to name where the @The_Nationals had backed farmers over miners he could think… https://t.co/N5dAe4h1kGRT @macsween_prue: Glad @ScottMorrisonMP has done a deal with Palmer’s Party.  He should do the same with @OneNationAus   Whatever it takes…@dumdum2512 @macsween_prue @ScottMorrisonMP @OneNationAus @billshortenmp @AustralianLabor Only those short of grey… https://t.co/riOrgk1tNm@The_Nationals what do showgraound do when the show isnt in town \\nWell on east coast most are used as a place homel… https://t.co/vX4L1qnMAn@macsween_prue @briez63 @ScottMorrisonMP @OneNationAus @billshortenmp @AustralianLabor I agree Prue. I can\\'t stand… https://t.co/G8wbklZPCVhttps://t.co/djLUnFQCbn @SciencePartyAus big opening for @S4PM affected communities studying for treatments and cures  @CureCoin_Team@SciencePartyAus @S4PM @CureCoin_Team https://t.co/Ck58sfzkBhRT @macsween_prue: Glad @ScottMorrisonMP has done a deal with Palmer’s Party.  He should do the same with @OneNationAus   Whatever it takes…@tdclancy @VoteSustainable They’re worth over 470.00  here 😯 https://t.co/5rsZPNpcztRT @macsween_prue: Glad @ScottMorrisonMP has done a deal with Palmer’s Party.  He should do the same with @OneNationAus   Whatever it takes…RT @peters_malcolm: @lyntaylor400 @adamblakester @michaeldyer123 @The_Nationals @M_McCormackMP @TonyHWindsor @The_NDL @PRIME7Tamworth @Barn…@macsween_prue @ScottMorrisonMP @OneNationAus @billshortenmp @AustralianLabor The CFMEU has literally donated to th… https://t.co/cHkg0aK8neRT @peters_malcolm: @lyntaylor400 @adamblakester @michaeldyer123 @The_Nationals @M_McCormackMP @TonyHWindsor @The_NDL @PRIME7Tamworth @Barn…RT @macsween_prue: Glad @ScottMorrisonMP has done a deal with Palmer’s Party.  He should do the same with @OneNationAus   Whatever it takes…RT @peters_malcolm: @lyntaylor400 @adamblakester @michaeldyer123 @The_Nationals @M_McCormackMP @TonyHWindsor @The_NDL @PRIME7Tamworth @Barn…@PetraAu @VoteSustainable Wow!RT @PSyvret: @jessvanvonderen @CliveFPalmer @abcbrisbane @abcnews Pay.  Your.  Workers.RT @iansmith_adl: @jessvanvonderen @deniseshrivell @CliveFPalmer @abcbrisbane @abcnews If Clive Palmer\\'s got so much money, why doesn\\'t he…RT @suelapp: @jessvanvonderen @CliveFPalmer @abcbrisbane @abcnews RepulsiveRT @domslashryan: @suelapp @jessvanvonderen @CliveFPalmer @abcbrisbane @abcnews Wow, isn\\'t that a great tagline for an attempted member of…RT @Sheoakbloke1: @domslashryan @SophiaMcGrane @suelapp @jessvanvonderen @CliveFPalmer @abcbrisbane @abcnews Especially when he\\'s not paid…RT @thehonestbank: @jessvanvonderen @deniseshrivell @CliveFPalmer @abcbrisbane @abcnews Your workers give a stuff. Pay them. Now.RT @JimmiDoodle: Surely, after reading this-The only thing that\\'s obvious is that this entire proceedings have been a deliberate stalling S…RT @__rochellemarie: @jessvanvonderen @CliveFPalmer @abcbrisbane @abcnews GOOD TO SEE YOU HAVE PLENTY TO PAY YOUR WORKERS THAT ARE STILL OW…RT @nicolec5972: @jessvanvonderen @CliveFPalmer @abcbrisbane @abcnews “You think I’m going to worry about anybody else? I couldn’t give a s…RT @kaz_neena: @jessvanvonderen @CliveFPalmer @abcbrisbane @abcnews Pay your workers and pay back the taxpayers.RT @MelissRob: @jessvanvonderen @deniseshrivell @CliveFPalmer @abcbrisbane @abcnews So pay your debts.RT @the_LoungeFly: @jessvanvonderen @deniseshrivell @CliveFPalmer @abcbrisbane @abcnews Yeah because the last time he was in parliament he…@CrowForm @jessvanvonderen @CliveFPalmer @abcbrisbane @abcnews Queensland. He’ll get plenty of votes along with Fraser and Pauline.Chinese government controlled companies bought an airfield 250km east of Perth for $1\\n#PutAustraliaFirst Vote1… https://t.co/jYOMvf8BpfRT @PutAUSFirst: Chinese government controlled companies bought an airfield 250km east of Perth for $1\\n#PutAustraliaFirst Vote1 @UnitedAusP…RT @PSyvret: @jessvanvonderen @CliveFPalmer @abcbrisbane @abcnews Pay.  Your.  Workers.RT @Bilbulbabe: @jessvanvonderen @CliveFPalmer @abcbrisbane @abcnews IF YOU’VE GOT FOUR HUNDRED MILLION DOLLARS IN THE BANK, CLIVE PALMER…RT @normboy562: @jessvanvonderen @CliveFPalmer @abcbrisbane @abcnews Palmer just told us what he wants, he doesn\\'t want or need money the o…RT @CDpay73: @jessvanvonderen @deniseshrivell @CliveFPalmer @abcbrisbane @abcnews Any journo should have challenged it against his failure…RT @jessvanvonderen: Just in case you weren\\'t sure how much money @CliveFPalmer has...\\n@abcbrisbane @abcnews #auspol https://t.co/RuiBw7wzrhRT @iansmith_adl: @jessvanvonderen @deniseshrivell @CliveFPalmer @abcbrisbane @abcnews If Clive Palmer\\'s got so much money, why doesn\\'t he…RT @Crankie58: @jessvanvonderen @CliveFPalmer @abcbrisbane @abcnews No excuse to wait till after the election to pay his workers then. Or i…RT @kaz_neena: @jessvanvonderen @CliveFPalmer @abcbrisbane @abcnews Pay your workers and pay back the taxpayers.RT @victa810: @jessvanvonderen @CliveFPalmer @abcbrisbane @abcnews Is this really the type of person we want, or need, in our Parliament....RT @mikeaubrey2: @jessvanvonderen @MinhKular @CliveFPalmer @abcbrisbane @abcnews He\\'s quite fucking mad \\U0001f920\\U0001f921\\U0001f920RT @domslashryan: @suelapp @jessvanvonderen @CliveFPalmer @abcbrisbane @abcnews Wow, isn\\'t that a great tagline for an attempted member of…RT @Slayer023: @jessvanvonderen @CliveFPalmer @abcbrisbane @abcnews And still his workers go without pay....RT @jessvanvonderen: Just in case you weren\\'t sure how much money @CliveFPalmer has...\\n@abcbrisbane @abcnews #auspol https://t.co/RuiBw7wzrhRT @RaymondBarkmeye: @jessvanvonderen @CliveFPalmer @abcbrisbane @abcnews If he gets a spot in the senate my faith in voter public will be…RT @thehonestbank: @jessvanvonderen @deniseshrivell @CliveFPalmer @abcbrisbane @abcnews Your workers give a stuff. Pay them. Now.@AlboMP @SenatorWong @CliveFPalmer pay your debts to your workers Palmer you imposter@jessvanvonderen @CliveFPalmer @abcbrisbane @abcnews 🙄 what a tosserRT @wikidribble: @jessvanvonderen @miriamcosic @CliveFPalmer @abcbrisbane @abcnews Then pay your workers you cheapskate.RT @crofty_au: @jessvanvonderen @CliveFPalmer @abcbrisbane @abcnews Pay the workers you ripped off! \\U0001f92c Why would anyone vote for this idiot!…RT @RocketSuperstar: @jessvanvonderen @CliveFPalmer @abcbrisbane @abcnews Still owes $8m in entitlements to workers but somehow finds $30m…RT @Whit3Kim: @jessvanvonderen @deniseshrivell @CliveFPalmer @abcbrisbane @abcnews Yeah mate, the only reason you’re trying to get yourself…@jessvanvonderen @lorrainebomber @CliveFPalmer @abcbrisbane @abcnews An absolute disgrace to the Australian public!… https://t.co/OaGrPoOsFiRT @PSyvret: @jessvanvonderen @CliveFPalmer @abcbrisbane @abcnews Pay.  Your.  Workers.RT @MainStreetAU: Australia, just think about this for a second: \\n\\n@CliveFPalmer is spending $50 million to buy a seat in the Senate while…@jessvanvonderen @CliveFPalmer @abcbrisbane @abcnews If you have 4 billion dollars pay your workers there entitleme… https://t.co/EAz9rxtRsZRT @normboy562: @jessvanvonderen @CliveFPalmer @abcbrisbane @abcnews Palmer just told us what he wants, he doesn\\'t want or need money the o…'"
      ]
     },
     "execution_count": 24,
     "metadata": {},
     "output_type": "execute_result"
    }
   ],
   "source": [
    "text_raw"
   ]
  },
  {
   "cell_type": "markdown",
   "metadata": {
    "slideshow": {
     "slide_type": "slide"
    }
   },
   "source": [
    "Congratulations! You have loaded all tweets! You just made the computer read all this data for you. Let me show you other ways to do this which we will use during the workshop for practical reasons:"
   ]
  },
  {
   "cell_type": "markdown",
   "metadata": {
    "slideshow": {
     "slide_type": "slide"
    }
   },
   "source": [
    "We are interested in words and sentences. In our first lessons, we analyzed texts already presented as words and sentences, we can do this with an operation called \"tokenization\"\n",
    "\n",
    "**Tokenization = cut the text into pieces like sentences or words**\n",
    "<img src=\"res/token.jpg\"/>"
   ]
  },
  {
   "cell_type": "code",
   "execution_count": 26,
   "metadata": {
    "slideshow": {
     "slide_type": "slide"
    }
   },
   "outputs": [],
   "source": [
    "from nltk import word_tokenize,sent_tokenize,wordpunct_tokenize"
   ]
  },
  {
   "cell_type": "code",
   "execution_count": 27,
   "metadata": {},
   "outputs": [],
   "source": [
    "twitter_words=word_tokenize(text_raw)"
   ]
  },
  {
   "cell_type": "code",
   "execution_count": 28,
   "metadata": {},
   "outputs": [
    {
     "data": {
      "text/plain": [
       "11570"
      ]
     },
     "execution_count": 28,
     "metadata": {},
     "output_type": "execute_result"
    }
   ],
   "source": [
    "len(twitter_words)"
   ]
  },
  {
   "cell_type": "markdown",
   "metadata": {
    "slideshow": {
     "slide_type": "slide"
    }
   },
   "source": [
    "### Exploring text - useful methods to search inside text\n",
    "NLTK has useful methods that helps us to work with text\n"
   ]
  },
  {
   "cell_type": "markdown",
   "metadata": {
    "slideshow": {
     "slide_type": "slide"
    }
   },
   "source": [
    "We can use methods from the object **text** to count the words."
   ]
  },
  {
   "cell_type": "code",
   "execution_count": 64,
   "metadata": {
    "slideshow": {
     "slide_type": "fragment"
    }
   },
   "outputs": [
    {
     "data": {
      "text/plain": [
       "FreqDist({'@': 1818, ':': 503, 'the': 268, 'https': 246, '.': 184, 'OneNationAus': 174, '’': 164, 'to': 156, ',': 143, 'a': 132, ...})"
      ]
     },
     "execution_count": 64,
     "metadata": {},
     "output_type": "execute_result"
    }
   ],
   "source": [
    "text=nltk.Text(twitter_words)\n",
    "text.vocab()"
   ]
  },
  {
   "cell_type": "markdown",
   "metadata": {
    "slideshow": {
     "slide_type": "slide"
    }
   },
   "source": [
    "Object **Text** is very handful, it wraps a lot of functionality. Let me show you some useful methods in this object:"
   ]
  },
  {
   "cell_type": "markdown",
   "metadata": {
    "slideshow": {
     "slide_type": "slide"
    }
   },
   "source": [
    "**Concordance** shows you a word in context and is useful if you want to be able to discuss the ways in which a word is used in a text. "
   ]
  },
  {
   "cell_type": "code",
   "execution_count": 59,
   "metadata": {
    "slideshow": {
     "slide_type": "fragment"
    }
   },
   "outputs": [
    {
     "name": "stdout",
     "output_type": "stream",
     "text": [
      "Displaying 25 of 25 matches:\n",
      "MqFyqwRT @ VoteSustainable : Not the Greens - new party with a new attitude http\n",
      "pnGqanRT @ VoteSustainable : Not the Greens - new party with a new attitude http\n",
      "BiitVqRT @ VoteSustainable : Not the Greens - new party with a new attitude http\n",
      "ble Australia is more green than the Greens . We need a p… https : //t.co/KpfOuS\n",
      "alian Labor Party and the Australian Greens to address cr…RT @ Linny57284055 : @\n",
      " SocialistAllnce @ vic_socialists `` Greens are at heart a petty bourgeois party\n",
      "alian Labor Party and the Australian Greens to address cr… @ AllyFarmer6 @ Senat\n",
      "alian Labor Party and the Australian Greens to address cr… @ AllyFarmer6 @ Senat\n",
      "alian Labor Party and the Australian Greens to address cr…RT @ Change_Record : T\n",
      "alian Labor Party and the Australian Greens to address cr… @ RodCaddies @ AllyFa\n",
      "alian Labor Party and the Australian Greens to address cr… @ roweafr @ Financial\n",
      "alian Labor Party and the Australian Greens to address cr…The Nats ’ candidate i\n",
      "alian Labor Party and the Australian Greens to address cr…RT @ VoteSustainable :\n",
      "alian Labor Party and the Australian Greens to address cr… @ VoteSustainable @ R\n",
      "alian Labor Party and the Australian Greens to address cr…RT @ lyntaylor400 : @ \n",
      " ScottMorrisonMP The left wing labor greens alliance marriage will damage the Au\n",
      "fbgfGsRT @ VoteSustainable : Not the Greens - new party with a new attitude http\n",
      "m the…RT @ VoteSustainable : Not the Greens - new party with a new attitude http\n",
      "wden @ OneNationAus @ CliveFPalmer @ Greens @ alpsa @ fraser_anning @ 10NewsFirs\n",
      "wden @ OneNationAus @ CliveFPalmer @ Greens @ alpsa @ fraser_anning @ 10NewsFirs\n",
      "ton1 @ OneNationAus @ CliveFPalmer @ Greens @ alpsa @ fraser_anning @ 10NewsFirs\n",
      "ton1 @ OneNationAus @ CliveFPalmer @ Greens @ alpsa @ fraser_anning @ 10NewsFirs\n",
      "wden @ OneNationAus @ CliveFPalmer @ Greens @ alpsa @ fraser_anning @ 10NewsFirs\n",
      "alian Labor Party and the Australian Greens to address cr… @ Lorrain86191635 @ S\n",
      "alian Labor Party and the Australian Greens to address cr…RT @ VoteSustainable :\n"
     ]
    }
   ],
   "source": [
    "text.concordance('greens')"
   ]
  },
  {
   "cell_type": "markdown",
   "metadata": {
    "slideshow": {
     "slide_type": "slide"
    }
   },
   "source": [
    "**Similar** will find words used in similar contexts; it is not looking for synonyms, although the results may include synonyms"
   ]
  },
  {
   "cell_type": "code",
   "execution_count": 57,
   "metadata": {
    "slideshow": {
     "slide_type": "fragment"
    }
   },
   "outputs": [
    {
     "name": "stdout",
     "output_type": "stream",
     "text": [
      "truth did dysfunctional rules election https\n"
     ]
    }
   ],
   "source": [
    "text.similar('Greens')"
   ]
  },
  {
   "cell_type": "markdown",
   "metadata": {
    "slideshow": {
     "slide_type": "slide"
    }
   },
   "source": [
    "**Common contexts** allows us to examine just the contexts that are shared by two or more words, such as monstrous and very. We have to enclose these words by square brackets as well as parentheses, and separate them with a comma:"
   ]
  },
  {
   "cell_type": "code",
   "execution_count": 62,
   "metadata": {
    "slideshow": {
     "slide_type": "fragment"
    }
   },
   "outputs": [
    {
     "name": "stdout",
     "output_type": "stream",
     "text": [
      "labor_alliance socialistallnce_are clivefpalmer_alpsa\n",
      "billshortenmp_julianburnside then_glad the_don australian_to the_we\n",
      "richarddinatale_https the_new sensible_what you_oddemocracya\n",
      "onenationaus_kattersausparty oddemocracya_piratepartyau\n",
      "system_piratepartyau preferences_above the_and\n"
     ]
    }
   ],
   "source": [
    "text.common_contexts(['Greens'])"
   ]
  },
  {
   "cell_type": "markdown",
   "metadata": {
    "slideshow": {
     "slide_type": "slide"
    }
   },
   "source": [
    "We can also find words that typically occur together, which tend to be very specific to a text or genre of texts. A **collocation** is a sequence of words that occur together unusually often"
   ]
  },
  {
   "cell_type": "code",
   "execution_count": 63,
   "metadata": {
    "slideshow": {
     "slide_type": "fragment"
    }
   },
   "outputs": [
    {
     "name": "stdout",
     "output_type": "stream",
     "text": [
      "stands next; OneNationAus Whatever; Record welcomes; Today Change;\n",
      "CityofKalBould… https; honestly thought; independent community; hit\n",
      "list; Australian Labor; new attitude; Labor Party; Ford Toyota; Holden\n",
      "Ford; AngusTaylorMP Holden; OneNationAus… https; address cr…;\n",
      "Australian Greens; immigration policies; preference deal; community\n",
      "party\n"
     ]
    }
   ],
   "source": [
    "text.collocations()"
   ]
  },
  {
   "cell_type": "markdown",
   "metadata": {
    "slideshow": {
     "slide_type": "slide"
    }
   },
   "source": [
    "#### Challenge: Text exploration\n",
    "\n",
    "1. Find the collocations in one of the papers (or all) \n",
    "\n",
    "2. Chose one of the words to concordance. \n",
    "\n",
    "3. Investigate how the word is used. What words are used similarly? \n",
    "\n",
    "4. And what are the common contexts of these words? \n",
    "\n",
    "5. Report your findings to the person next to you. \n",
    "."
   ]
  },
  {
   "cell_type": "markdown",
   "metadata": {
    "slideshow": {
     "slide_type": "slide"
    }
   },
   "source": [
    "### Exploring text: Plotting dispersion of words\n",
    "If we can find words in a text, we can also take note of their position within the text, Python lets you create graphs to analize textual data.\n",
    "We can then generate a **dispersion plot** that shows where given words occur in a text."
   ]
  },
  {
   "cell_type": "code",
   "execution_count": 66,
   "metadata": {
    "slideshow": {
     "slide_type": "fragment"
    }
   },
   "outputs": [
    {
     "data": {
      "image/png": "[encoded data removed]",
      "text/plain": [
       "<Figure size 432x288 with 1 Axes>"
      ]
     },
     "metadata": {
      "needs_background": "light"
     },
     "output_type": "display_data"
    }
   ],
   "source": [
    "text.dispersion_plot(['Greens','Labor'])"
   ]
  },
  {
   "cell_type": "markdown",
   "metadata": {
    "slideshow": {
     "slide_type": "slide"
    }
   },
   "source": [
    "#### Challenge: Dispersion of words in a text\n",
    "\n",
    "Create a dispersion plot for other terms.\n",
    "What do you think it tells you? "
   ]
  },
  {
   "cell_type": "code",
   "execution_count": 73,
   "metadata": {
    "slideshow": {
     "slide_type": "slide"
    }
   },
   "outputs": [
    {
     "data": {
      "image/png": "[encoded data removed]",
      "text/plain": [
       "<Figure size 432x288 with 1 Axes>"
      ]
     },
     "metadata": {
      "needs_background": "light"
     },
     "output_type": "display_data"
    }
   ],
   "source": [
    "text.dispersion_plot(['immigration','VoteSustainable'])"
   ]
  },
  {
   "cell_type": "markdown",
   "metadata": {
    "slideshow": {
     "slide_type": "slide"
    }
   },
   "source": [
    "Here, VoteSustainable is a term used regularlly"
   ]
  },
  {
   "cell_type": "markdown",
   "metadata": {
    "slideshow": {
     "slide_type": "slide"
    }
   },
   "source": [
    "## Data structures: Texts as Lists of Words\n",
    "Python treats a text as a long list of words. First, we'll make some lists of our own, to give you an idea of how a list behaves.\n"
   ]
  },
  {
   "cell_type": "code",
   "execution_count": 63,
   "metadata": {
    "slideshow": {
     "slide_type": "fragment"
    }
   },
   "outputs": [],
   "source": [
    "sent1 = ['Call', 'me', 'Ishmael', '.']\n",
    "# Note we use Square brackets here to define our list"
   ]
  },
  {
   "cell_type": "code",
   "execution_count": 64,
   "metadata": {
    "slideshow": {
     "slide_type": "fragment"
    }
   },
   "outputs": [
    {
     "data": {
      "text/plain": [
       "['Call', 'me', 'Ishmael', '.']"
      ]
     },
     "execution_count": 64,
     "metadata": {},
     "output_type": "execute_result"
    }
   ],
   "source": [
    "sent1"
   ]
  },
  {
   "cell_type": "markdown",
   "metadata": {
    "slideshow": {
     "slide_type": "slide"
    }
   },
   "source": [
    "A few things to consider...\n",
    "<br>\n",
    "<img src='res/lists.jpg'>\n",
    "*Credit: Head First Python by Paul Barry*"
   ]
  },
  {
   "cell_type": "code",
   "execution_count": 65,
   "metadata": {},
   "outputs": [
    {
     "data": {
      "text/plain": [
       "'Ishmael'"
      ]
     },
     "execution_count": 65,
     "metadata": {},
     "output_type": "execute_result"
    }
   ],
   "source": [
    "sent1[2]"
   ]
  },
  {
   "cell_type": "markdown",
   "metadata": {
    "slideshow": {
     "slide_type": "slide"
    }
   },
   "source": [
    "You can add lists together, creating a new list containing all the items from both lists. You can do this by typing out the two lists or you can add two or more pre-defined lists. This is called concatenation."
   ]
  },
  {
   "cell_type": "code",
   "execution_count": 66,
   "metadata": {},
   "outputs": [],
   "source": [
    "sent2=[\"hi\",'you']"
   ]
  },
  {
   "cell_type": "code",
   "execution_count": 67,
   "metadata": {
    "slideshow": {
     "slide_type": "fragment"
    }
   },
   "outputs": [
    {
     "data": {
      "text/plain": [
       "['Call', 'me', 'Ishmael', '.', 'hi', 'you']"
      ]
     },
     "execution_count": 67,
     "metadata": {},
     "output_type": "execute_result"
    }
   ],
   "source": [
    "sent1+sent2"
   ]
  },
  {
   "cell_type": "markdown",
   "metadata": {
    "slideshow": {
     "slide_type": "slide"
    }
   },
   "source": [
    "You can think of text as a concatenation of sentences, and sentences as a concatenation of words"
   ]
  },
  {
   "cell_type": "markdown",
   "metadata": {
    "slideshow": {
     "slide_type": "fragment"
    }
   },
   "source": [
    "What if we want to add a single item to a list? This is known as appending. When we append() to a list, the list itself is updated as a result of the operation."
   ]
  },
  {
   "cell_type": "code",
   "execution_count": 68,
   "metadata": {
    "slideshow": {
     "slide_type": "subslide"
    }
   },
   "outputs": [],
   "source": [
    "sent1.append('Now!')"
   ]
  },
  {
   "cell_type": "code",
   "execution_count": 69,
   "metadata": {
    "slideshow": {
     "slide_type": "slide"
    }
   },
   "outputs": [
    {
     "data": {
      "text/plain": [
       "['Call', 'me', 'Ishmael', '.', 'Now!']"
      ]
     },
     "execution_count": 69,
     "metadata": {},
     "output_type": "execute_result"
    }
   ],
   "source": [
    "sent1"
   ]
  },
  {
   "cell_type": "markdown",
   "metadata": {
    "slideshow": {
     "slide_type": "slide"
    }
   },
   "source": [
    "#### Indexing Lists\n",
    "We can navigate this list with the help of indexes. Just as we can find out the number of times a word occurs in a text, we can also find where a word first occurs. We can navigate to different points in a text without restriction, so long as we can describe where we want to be."
   ]
  },
  {
   "cell_type": "code",
   "execution_count": 70,
   "metadata": {
    "slideshow": {
     "slide_type": "fragment"
    }
   },
   "outputs": [
    {
     "name": "stdout",
     "output_type": "stream",
     "text": [
      "1\n"
     ]
    }
   ],
   "source": [
    "print(sent1.index('me')) # print is a python function we can use to show the result of an text operation"
   ]
  },
  {
   "cell_type": "markdown",
   "metadata": {
    "slideshow": {
     "slide_type": "slide"
    }
   },
   "source": [
    "This works in reverse as well. We can ask Python to locate the 158th item in our list (note that we use square brackets here, not parentheses)"
   ]
  },
  {
   "cell_type": "code",
   "execution_count": 71,
   "metadata": {
    "slideshow": {
     "slide_type": "fragment"
    }
   },
   "outputs": [
    {
     "data": {
      "text/plain": [
       "'me'"
      ]
     },
     "execution_count": 71,
     "metadata": {},
     "output_type": "execute_result"
    }
   ],
   "source": [
    "sent1[1]"
   ]
  },
  {
   "cell_type": "markdown",
   "metadata": {
    "slideshow": {
     "slide_type": "slide"
    }
   },
   "source": [
    "As well as pulling out individual items from a list, indexes can be used to pull out selections of text from a large corpus to inspect. We call this **slicing**."
   ]
  },
  {
   "cell_type": "code",
   "execution_count": 74,
   "metadata": {
    "slideshow": {
     "slide_type": "fragment"
    }
   },
   "outputs": [
    {
     "data": {
      "text/plain": [
       "['I', 'was', 'wrong', '.', 'Its']"
      ]
     },
     "execution_count": 74,
     "metadata": {},
     "output_type": "execute_result"
    }
   ],
   "source": [
    "text[1000:1005]"
   ]
  },
  {
   "cell_type": "markdown",
   "metadata": {
    "slideshow": {
     "slide_type": "slide"
    }
   },
   "source": [
    "If we're asking for the beginning or end of a text, we can leave out the first or second number. For instance, [:5] will give us the first five items in a list while [8:] will give us all the elements from the eighth to the end."
   ]
  },
  {
   "cell_type": "code",
   "execution_count": 73,
   "metadata": {
    "slideshow": {
     "slide_type": "fragment"
    }
   },
   "outputs": [
    {
     "data": {
      "text/plain": [
       "['Ishmael', '.', 'Now!']"
      ]
     },
     "execution_count": 73,
     "metadata": {},
     "output_type": "execute_result"
    }
   ],
   "source": [
    "sent1[2:]"
   ]
  },
  {
   "cell_type": "markdown",
   "metadata": {
    "slideshow": {
     "slide_type": "slide"
    }
   },
   "source": [
    "To help you understand how indexes work, let's create one.\n",
    "We start by defining the name of our index and then add the items. You probably won't do this in your own work, but you may want to manipulate an index in other ways. Pay attention to the quote marks and commas when you create your test sentence."
   ]
  },
  {
   "cell_type": "code",
   "execution_count": 77,
   "metadata": {
    "slideshow": {
     "slide_type": "fragment"
    }
   },
   "outputs": [],
   "source": [
    "sent_test=['one','two','three','four']"
   ]
  },
  {
   "cell_type": "code",
   "execution_count": 75,
   "metadata": {},
   "outputs": [
    {
     "ename": "IndexError",
     "evalue": "list index out of range",
     "output_type": "error",
     "traceback": [
      "\u001b[0;31m---------------------------------------------------------------------------\u001b[0m",
      "\u001b[0;31mIndexError\u001b[0m                                Traceback (most recent call last)",
      "\u001b[0;32m<ipython-input-75-a83ac66154de>\u001b[0m in \u001b[0;36m<module>\u001b[0;34m()\u001b[0m\n\u001b[0;32m----> 1\u001b[0;31m \u001b[0msent_test\u001b[0m\u001b[0;34m[\u001b[0m\u001b[0;36m10\u001b[0m\u001b[0;34m]\u001b[0m\u001b[0;34m\u001b[0m\u001b[0m\n\u001b[0m",
      "\u001b[0;31mIndexError\u001b[0m: list index out of range"
     ]
    }
   ],
   "source": [
    "sent_test[10]"
   ]
  },
  {
   "cell_type": "markdown",
   "metadata": {
    "slideshow": {
     "slide_type": "slide"
    }
   },
   "source": [
    "Note that the first element in the list is zero. This is because we are telling Python to go zero steps forward in the list. If we use an index that is too large (that is, we ask for something that doesn't exist), we'll get an error.\n",
    "We can modify elements in a list by assigning new data to one of its index values. We can also replace a slice with new material."
   ]
  },
  {
   "cell_type": "code",
   "execution_count": 78,
   "metadata": {
    "slideshow": {
     "slide_type": "fragment"
    }
   },
   "outputs": [
    {
     "data": {
      "text/plain": [
       "['one', 'two', 'change three', 'four']"
      ]
     },
     "execution_count": 78,
     "metadata": {},
     "output_type": "execute_result"
    }
   ],
   "source": [
    "sent_test[2]=\"change three\"\n",
    "sent_test"
   ]
  },
  {
   "cell_type": "markdown",
   "metadata": {
    "slideshow": {
     "slide_type": "slide"
    }
   },
   "source": [
    "#### Challenge: Lists \n",
    "\n",
    "Take a few minutes to define a sentence of your own and modify individual words and groups of words (slices) using the same methods used earlier"
   ]
  },
  {
   "cell_type": "code",
   "execution_count": 88,
   "metadata": {
    "slideshow": {
     "slide_type": "fragment"
    }
   },
   "outputs": [
    {
     "data": {
      "text/plain": [
       "['Today', 'is', 'a', 'rainy', 'day']"
      ]
     },
     "execution_count": 88,
     "metadata": {},
     "output_type": "execute_result"
    }
   ],
   "source": [
    "sent=['Today','is','a','rainy','day']\n",
    "sent"
   ]
  },
  {
   "cell_type": "code",
   "execution_count": 90,
   "metadata": {},
   "outputs": [
    {
     "data": {
      "text/plain": [
       "['Today', 'is', 'a', 'rainy', 'cloudy']"
      ]
     },
     "execution_count": 90,
     "metadata": {},
     "output_type": "execute_result"
    }
   ],
   "source": [
    "sent[4]='cloudy'\n",
    "sent"
   ]
  },
  {
   "cell_type": "markdown",
   "metadata": {
    "slideshow": {
     "slide_type": "slide"
    }
   },
   "source": [
    "## Strings: A useful object to store texts\n",
    "\n",
    "A string is a sequence of characters, you can think of it as a list. For example, we can assign a string to a variable, index a string, and slice a string"
   ]
  },
  {
   "cell_type": "code",
   "execution_count": 91,
   "metadata": {
    "slideshow": {
     "slide_type": "fragment"
    }
   },
   "outputs": [
    {
     "name": "stdout",
     "output_type": "stream",
     "text": [
      "Julia\n"
     ]
    }
   ],
   "source": [
    "name='Julia'\n",
    "print(name)"
   ]
  },
  {
   "cell_type": "code",
   "execution_count": 92,
   "metadata": {
    "slideshow": {
     "slide_type": "fragment"
    }
   },
   "outputs": [
    {
     "data": {
      "text/plain": [
       "'i'"
      ]
     },
     "execution_count": 92,
     "metadata": {},
     "output_type": "execute_result"
    }
   ],
   "source": [
    "name[3]"
   ]
  },
  {
   "cell_type": "markdown",
   "metadata": {
    "slideshow": {
     "slide_type": "slide"
    }
   },
   "source": [
    "We can also make some mathematical operations, like \n",
    "```+``` and ```*```:"
   ]
  },
  {
   "cell_type": "code",
   "execution_count": 93,
   "metadata": {
    "slideshow": {
     "slide_type": "fragment"
    }
   },
   "outputs": [
    {
     "data": {
      "text/plain": [
       "'JuliaJuliaJuliaJuliaJulia'"
      ]
     },
     "execution_count": 93,
     "metadata": {},
     "output_type": "execute_result"
    }
   ],
   "source": [
    "name*5"
   ]
  },
  {
   "cell_type": "markdown",
   "metadata": {
    "slideshow": {
     "slide_type": "slide"
    }
   },
   "source": [
    "We can ```join```\n",
    " the words of a list to make a single string, or ```split```\n",
    " a string into a list, as follows:"
   ]
  },
  {
   "cell_type": "code",
   "execution_count": 94,
   "metadata": {
    "slideshow": {
     "slide_type": "fragment"
    }
   },
   "outputs": [],
   "source": [
    "blank=' '\n",
    "sent=blank.join(['I','love','python'])"
   ]
  },
  {
   "cell_type": "code",
   "execution_count": 95,
   "metadata": {},
   "outputs": [
    {
     "data": {
      "text/plain": [
       "'I love python'"
      ]
     },
     "execution_count": 95,
     "metadata": {},
     "output_type": "execute_result"
    }
   ],
   "source": [
    "sent"
   ]
  },
  {
   "cell_type": "code",
   "execution_count": 96,
   "metadata": {},
   "outputs": [
    {
     "data": {
      "text/plain": [
       "['I', 'love', 'python']"
      ]
     },
     "execution_count": 96,
     "metadata": {},
     "output_type": "execute_result"
    }
   ],
   "source": [
    "sent.split()"
   ]
  },
  {
   "cell_type": "markdown",
   "metadata": {
    "slideshow": {
     "slide_type": "slide"
    }
   },
   "source": [
    "And it will be helpful to normalize your text. E.g. lowercase, uppercase"
   ]
  },
  {
   "cell_type": "code",
   "execution_count": 97,
   "metadata": {
    "slideshow": {
     "slide_type": "fragment"
    }
   },
   "outputs": [
    {
     "data": {
      "text/plain": [
       "True"
      ]
     },
     "execution_count": 97,
     "metadata": {},
     "output_type": "execute_result"
    }
   ],
   "source": [
    "animal1='Elephant'\n",
    "animal2='elephant'\n",
    "animal1.lower()==animal2"
   ]
  },
  {
   "cell_type": "markdown",
   "metadata": {
    "slideshow": {
     "slide_type": "slide"
    }
   },
   "source": [
    "## Let computers do the repetitive work: Python Loops\n",
    "\n",
    "We can use Python to automate tasks, such as performing a function on all items in a list. For instance, we could ask it to tell us the size of all the files in a directory. To do that, we'll have to teach the computer how to repeat things. We do this by creating something called a *loop*."
   ]
  },
  {
   "cell_type": "markdown",
   "metadata": {
    "slideshow": {
     "slide_type": "slide"
    }
   },
   "source": [
    "An example task that we might want to repeat is printing each character in a word on a line of its own. One way to do this would be to use a series of print statements:"
   ]
  },
  {
   "cell_type": "code",
   "execution_count": 98,
   "metadata": {
    "slideshow": {
     "slide_type": "fragment"
    }
   },
   "outputs": [
    {
     "name": "stdout",
     "output_type": "stream",
     "text": [
      "E\n",
      "l\n",
      "e\n",
      "h\n"
     ]
    }
   ],
   "source": [
    "print(animal1[0])\n",
    "print(animal1[1])\n",
    "print(animal1[2])\n",
    "print(animal1[4])\n"
   ]
  },
  {
   "cell_type": "markdown",
   "metadata": {
    "slideshow": {
     "slide_type": "slide"
    }
   },
   "source": [
    "What are the cons of doing this do you think?"
   ]
  },
  {
   "cell_type": "code",
   "execution_count": 99,
   "metadata": {
    "slideshow": {
     "slide_type": "fragment"
    }
   },
   "outputs": [
    {
     "ename": "IndexError",
     "evalue": "string index out of range",
     "output_type": "error",
     "traceback": [
      "\u001b[0;31m---------------------------------------------------------------------------\u001b[0m",
      "\u001b[0;31mIndexError\u001b[0m                                Traceback (most recent call last)",
      "\u001b[0;32m<ipython-input-99-b87c4653b578>\u001b[0m in \u001b[0;36m<module>\u001b[0;34m()\u001b[0m\n\u001b[0;32m----> 1\u001b[0;31m \u001b[0mprint\u001b[0m\u001b[0;34m(\u001b[0m\u001b[0manimal1\u001b[0m\u001b[0;34m[\u001b[0m\u001b[0;36m10\u001b[0m\u001b[0;34m]\u001b[0m\u001b[0;34m)\u001b[0m\u001b[0;34m\u001b[0m\u001b[0m\n\u001b[0m",
      "\u001b[0;31mIndexError\u001b[0m: string index out of range"
     ]
    }
   ],
   "source": [
    "print(animal1[10])"
   ]
  },
  {
   "cell_type": "markdown",
   "metadata": {
    "slideshow": {
     "slide_type": "slide"
    }
   },
   "source": [
    "We can make mistakes using a particular index"
   ]
  },
  {
   "cell_type": "markdown",
   "metadata": {
    "slideshow": {
     "slide_type": "slide"
    }
   },
   "source": [
    "<img src='res/loop.jpg'>\n",
    "<br>\n",
    "<i>Credit: Head First Python by Paul Barry</i>"
   ]
  },
  {
   "cell_type": "markdown",
   "metadata": {
    "slideshow": {
     "slide_type": "fragment"
    }
   },
   "source": [
    "This is call a 'for loop'. Try it with other words."
   ]
  },
  {
   "cell_type": "markdown",
   "metadata": {
    "slideshow": {
     "slide_type": "slide"
    }
   },
   "source": [
    "The general form of a loop is:\n",
    "```python\n",
    "for variable in collection:\n",
    "    # do this\n",
    "    # do that\n",
    "    ```\n",
    "We can call the loop variable whatever we want, but there must be a colon at the end of the line starting the loop, and we must indent anything we want to run inside the loop. This is used to signify when the loop ends, instead of using a symbol to end the loop."
   ]
  },
  {
   "cell_type": "markdown",
   "metadata": {
    "slideshow": {
     "slide_type": "slide"
    }
   },
   "source": [
    "This is a loop that repeatedly updates a variable:"
   ]
  },
  {
   "cell_type": "code",
   "execution_count": 100,
   "metadata": {
    "slideshow": {
     "slide_type": "fragment"
    }
   },
   "outputs": [
    {
     "name": "stdout",
     "output_type": "stream",
     "text": [
      "There are 6 letters in this word\n",
      "6\n"
     ]
    }
   ],
   "source": [
    "length = 0\n",
    "for char in 'Python':\n",
    "    length = length + 1\n",
    "print('There are', length, 'letters in this word')\n"
   ]
  },
  {
   "cell_type": "markdown",
   "metadata": {
    "slideshow": {
     "slide_type": "notes"
    }
   },
   "source": [
    "Let's go through this line by line.\n",
    "The variable is set to 0, so that python starts counting from 0.\n",
    "The second line opens a for loop that loops over the characters in Python.\n",
    "Now, the third line tells python to count by one, pretty obvious to us humans... Since there are six characters in 'Python', the statement on line 3 will be executed five times.\n",
    "The first time around, length is zero (the value assigned to it on line 1). The statement adds 1 to the old value of length, producing 1, and updates length to refer to that new value. The next time around, char is 'y' and length is 1, so length is updated to be 2. After four more updates, length is 6.\n",
    "Since there is nothing left in 'Python', the loop finishes and the print statement on line 4 tells us our final answer inbetween two strings."
   ]
  },
  {
   "cell_type": "markdown",
   "metadata": {
    "slideshow": {
     "slide_type": "slide"
    }
   },
   "source": [
    "Of course, we already know that we could use ```len()``` to find the length of a string, but it's just an example... Let's compare results:"
   ]
  },
  {
   "cell_type": "code",
   "execution_count": 101,
   "metadata": {
    "slideshow": {
     "slide_type": "fragment"
    }
   },
   "outputs": [
    {
     "name": "stdout",
     "output_type": "stream",
     "text": [
      "6\n"
     ]
    }
   ],
   "source": [
    "print(len('Python'))"
   ]
  },
  {
   "cell_type": "markdown",
   "metadata": {
    "slideshow": {
     "slide_type": "slide"
    }
   },
   "source": [
    "Now for another example using a list! Fruit salad, yummy, yummy."
   ]
  },
  {
   "cell_type": "code",
   "execution_count": 102,
   "metadata": {
    "slideshow": {
     "slide_type": "fragment"
    }
   },
   "outputs": [
    {
     "name": "stdout",
     "output_type": "stream",
     "text": [
      "Current fruit : banana\n",
      "Done!\n",
      "Current fruit : apple\n",
      "Done!\n",
      "Current fruit : mango\n",
      "Done!\n"
     ]
    }
   ],
   "source": [
    "fruits = ['banana', 'apple', 'mango']\n",
    "for fruit in fruits:        \n",
    "    print('Current fruit :', fruit)\n",
    "    print('Done!')"
   ]
  },
  {
   "cell_type": "markdown",
   "metadata": {
    "slideshow": {
     "slide_type": "slide"
    }
   },
   "source": [
    "#### Challenge: Loops\n",
    "Define a list called Library with the first 10 papers. Write a for loop that will  print the lexical diversity over each paper and tell you its score."
   ]
  },
  {
   "cell_type": "code",
   "execution_count": 103,
   "metadata": {
    "slideshow": {
     "slide_type": "subslide"
    }
   },
   "outputs": [
    {
     "name": "stdout",
     "output_type": "stream",
     "text": [
      "hi dear 1.0\n",
      "how come 1.1428571428571428\n",
      "are you happy 1.4444444444444444\n",
      "you 1.0\n"
     ]
    }
   ],
   "source": [
    "library=[\"hi dear\",\"how come\",\"are you happy\",\"you\"]\n",
    "for book in library:\n",
    "    score=len(book)/len(set(book))\n",
    "    print(book,score)"
   ]
  },
  {
   "cell_type": "markdown",
   "metadata": {
    "slideshow": {
     "slide_type": "slide"
    }
   },
   "source": [
    "## Frecuency Distributions: Counting for analysis\n",
    "We can use Python's ability to perform statistical analysis of data to do further exploration of vocabulary. For instance, we might want to be able to find the most common or least common words in a text. We'll start by looking at frequency distribution."
   ]
  },
  {
   "cell_type": "code",
   "execution_count": 75,
   "metadata": {
    "slideshow": {
     "slide_type": "slide"
    }
   },
   "outputs": [],
   "source": [
    "# import FreqDist from the nltk.probability module\n",
    "from nltk.probability import FreqDist\n"
   ]
  },
  {
   "cell_type": "code",
   "execution_count": 76,
   "metadata": {
    "slideshow": {
     "slide_type": "fragment"
    }
   },
   "outputs": [],
   "source": [
    "fdist1=FreqDist(text) "
   ]
  },
  {
   "cell_type": "code",
   "execution_count": 77,
   "metadata": {
    "slideshow": {
     "slide_type": "fragment"
    }
   },
   "outputs": [
    {
     "data": {
      "text/plain": [
       "[('@', 1818),\n",
       " (':', 503),\n",
       " ('the', 268),\n",
       " ('https', 246),\n",
       " ('.', 184),\n",
       " ('OneNationAus', 174),\n",
       " ('’', 164),\n",
       " ('to', 156),\n",
       " (',', 143),\n",
       " ('a', 132)]"
      ]
     },
     "execution_count": 77,
     "metadata": {},
     "output_type": "execute_result"
    }
   ],
   "source": [
    "fdist1.most_common(10)"
   ]
  },
  {
   "cell_type": "code",
   "execution_count": 78,
   "metadata": {
    "slideshow": {
     "slide_type": "fragment"
    }
   },
   "outputs": [
    {
     "data": {
      "text/plain": [
       "[('@', 1818)]"
      ]
     },
     "execution_count": 78,
     "metadata": {},
     "output_type": "execute_result"
    }
   ],
   "source": [
    "fdist1=text.vocab()\n",
    "fdist1.most_common(1)"
   ]
  },
  {
   "cell_type": "markdown",
   "metadata": {
    "slideshow": {
     "slide_type": "slide"
    }
   },
   "source": [
    "#### Challenge: Frequency distributions\n",
    "Use a loop to compare the 10 most common words of the texts. Give a pair: paper, most common words. Plot one of the distributions"
   ]
  },
  {
   "cell_type": "code",
   "execution_count": 79,
   "metadata": {
    "slideshow": {
     "slide_type": "subslide"
    }
   },
   "outputs": [
    {
     "data": {
      "image/png": "[encoded data removed]",
      "text/plain": [
       "<Figure size 432x288 with 1 Axes>"
      ]
     },
     "metadata": {
      "needs_background": "light"
     },
     "output_type": "display_data"
    }
   ],
   "source": [
    "fdist1.plot(5)"
   ]
  },
  {
   "cell_type": "markdown",
   "metadata": {
    "slideshow": {
     "slide_type": "slide"
    }
   },
   "source": [
    "## Exploring vocabulary (cont.)\n",
    "As well as counting individual words, we can count other features of vocabulary, such as how often words of different lengths occur. We do this by putting together a number of the commands we've already learned.\n",
    "\n",
    "We could start like this: \n",
    "\n",
    "```[len(word) for word in text1]```\n",
    "\n",
    "... but this would print the length of every word in the whole book, so let's skip that bit!"
   ]
  },
  {
   "cell_type": "code",
   "execution_count": 80,
   "metadata": {
    "slideshow": {
     "slide_type": "slide"
    }
   },
   "outputs": [
    {
     "name": "stdout",
     "output_type": "stream",
     "text": [
      "[(1, 3500), (3, 1170), (2, 1138), (4, 1090), (5, 854)]\n"
     ]
    }
   ],
   "source": [
    "# try get the frequency distribution for the lenght of words in first paper\n",
    "list_words=[]\n",
    "for word in text:\n",
    "    list_words.append(len(word))\n",
    "    \n",
    "fdist=FreqDist(list_words)\n",
    "count=fdist.most_common(5)\n",
    "print(count)\n"
   ]
  },
  {
   "cell_type": "code",
   "execution_count": 81,
   "metadata": {},
   "outputs": [
    {
     "data": {
      "text/plain": [
       "20.92428694900605"
      ]
     },
     "execution_count": 81,
     "metadata": {},
     "output_type": "execute_result"
    }
   ],
   "source": [
    "# get the proportion of the top word with the whole text\n",
    "242094/len(list_words) # 242094 = fdist.most_common(1)[0][1]"
   ]
  },
  {
   "cell_type": "code",
   "execution_count": 82,
   "metadata": {},
   "outputs": [
    {
     "data": {
      "text/plain": [
       "0.10112359550561797"
      ]
     },
     "execution_count": 82,
     "metadata": {},
     "output_type": "execute_result"
    }
   ],
   "source": [
    "fdist.freq(3)"
   ]
  },
  {
   "cell_type": "code",
   "execution_count": 83,
   "metadata": {
    "slideshow": {
     "slide_type": "fragment"
    }
   },
   "outputs": [
    {
     "data": {
      "text/plain": [
       "[(1, 3500)]"
      ]
     },
     "execution_count": 83,
     "metadata": {},
     "output_type": "execute_result"
    }
   ],
   "source": [
    "# what is the most common word lenght?\n",
    "fdist.most_common(1)\n",
    "# 6"
   ]
  },
  {
   "cell_type": "code",
   "execution_count": 84,
   "metadata": {
    "slideshow": {
     "slide_type": "fragment"
    }
   },
   "outputs": [
    {
     "data": {
      "text/plain": [
       "[(1, 3500)]"
      ]
     },
     "execution_count": 84,
     "metadata": {},
     "output_type": "execute_result"
    }
   ],
   "source": [
    "# how frequent is that length in the overall text?\n",
    "fdist.most_common(1)\n",
    "# 242094 times\n"
   ]
  },
  {
   "cell_type": "markdown",
   "metadata": {
    "slideshow": {
     "slide_type": "slide"
    }
   },
   "source": [
    "These last two commands tell us that the most common word length, and that these account for about 20% of the text. We can see this just by visually inspecting the list produced by ```fdist2.most_common()```\n",
    ", but if this list were too long to inspect readily, or we didn't want to print it, there are other ways to explore it."
   ]
  },
  {
   "cell_type": "markdown",
   "metadata": {
    "slideshow": {
     "slide_type": "slide"
    }
   },
   "source": [
    "There are a number of functions defined for NLTK's frequency distributions:\n",
    "\n",
    " | Function | Purpose  |\n",
    " |--------------|------------|\n",
    " | fdist = FreqDist(samples) | create a frequency distribution containing the given samples |\n",
    " | fdist[sample] += 1 | increment the count for this sample |\n",
    " | fdist['monstrous']  | count of the number of times a given sample occurred |\n",
    " | fdist.freq('monstrous') | frequency of a given sample |\n",
    " | fdist.N()  |  total number of samples |\n",
    " | fdist.most_common(n)   |  the n most common samples and their frequencies |\n",
    " | for sample in fdist:   |  iterate over the items in fdist, when in the loop, we refer to each item as sample |\n",
    " | fdist.max() | sample with the greatest count |\n",
    " | fdist.tabulate()   |  tabulate the frequency distribution |\n",
    " | fdist.plot()  |   graphical plot of the frequency distribution |\n",
    " | fdist.plot(cumulative=True) | cumulative plot of the frequency distribution |\n",
    " | fdist1 < fdist2 | test if samples in fdist1 occur less frequently than in fdist2 |"
   ]
  },
  {
   "cell_type": "markdown",
   "metadata": {
    "slideshow": {
     "slide_type": "slide"
    }
   },
   "source": [
    "It is possible to select the longest words in a text, which may tell you something about its vocabulary and style"
   ]
  },
  {
   "cell_type": "code",
   "execution_count": 85,
   "metadata": {},
   "outputs": [
    {
     "name": "stdout",
     "output_type": "stream",
     "text": [
      "[\"'monster\", '.hypocrites', '//t.co/0CPz0hutqv', '//t.co/0RHBGadpfG', '//t.co/0y2zJzBBju', '//t.co/1HP1R3ihuL', '//t.co/1Rgk5pXnRG', '//t.co/2EowkkKrRzRT', '//t.co/2J5LlVRNfz', '//t.co/3I3jaPmUq3']\n"
     ]
    }
   ],
   "source": [
    "vocab = set(text)\n",
    "long_words=[]\n",
    "for word in vocab:\n",
    "    if len(word)>7: #pick a treshold\n",
    "        long_words.append(word)\n",
    "        \n",
    "sorted_words=sorted(long_words)\n",
    "print(sorted_words[:10]) # print the first ten, otherwise it will print too much"
   ]
  },
  {
   "cell_type": "markdown",
   "metadata": {},
   "source": [
    "We can use this other template to do exactly the same thing, in just one line. We are not going to go deep in this but if you are interested it's called **List comprehension**"
   ]
  },
  {
   "cell_type": "code",
   "execution_count": 130,
   "metadata": {
    "slideshow": {
     "slide_type": "fragment"
    }
   },
   "outputs": [
    {
     "name": "stdout",
     "output_type": "stream",
     "text": [
      "['ackaowledgmeats', 'acknowledgement', 'algorithmically', 'almeidathouless', 'anftrmeianprosc', 'anthropomorphic', 'anticorrelation', 'appropriateness', 'approximability', 'approximatively']\n"
     ]
    }
   ],
   "source": [
    "vocab = set(text)\n",
    "long_words = [word for word in vocab if len(word) == 15]\n",
    "sorted_words=sorted(long_words)\n",
    "print(sorted_words[:10]) # print the first ten, otherwise it will print too much"
   ]
  },
  {
   "cell_type": "markdown",
   "metadata": {
    "slideshow": {
     "slide_type": "slide"
    }
   },
   "source": [
    "We can also use numerical operators to refine the types of searches we ask Python to run. We can use the following relational operators:\n",
    "\n",
    "\n",
    "### Common relationals\n",
    " |  Relational | Meaning |\n",
    " |--------------:|:------------|\n",
    " | <    |  less than |\n",
    " | <=   |   less than or equal to |\n",
    " | ==  |    equal to (note this is two \"=\" signs, not one) |\n",
    " | !=   |   not equal to |\n",
    " | \\>   |   greater than |\n",
    " | \\>= |   greater than or equal to |"
   ]
  },
  {
   "cell_type": "markdown",
   "metadata": {
    "slideshow": {
     "slide_type": "slide"
    }
   },
   "source": [
    "#### Challenge: Use operator to explore text\n",
    "\n",
    "Using the corpus, use the relational operators above to find:\n",
    "- Words longer than four characters\n",
    "- Words of four or more characters\n",
    "- Words of exactly four characters"
   ]
  },
  {
   "cell_type": "code",
   "execution_count": 131,
   "metadata": {
    "slideshow": {
     "slide_type": "slide"
    }
   },
   "outputs": [
    {
     "name": "stdout",
     "output_type": "stream",
     "text": [
      "['aaaaa', 'aaaaaa', 'aaaaaaa', 'aaaaaaaaad', 'aaaabbbbbbaaaa', 'aaabbb', 'aaabbbbaaa', 'aaaijmit', 'aaaoaaaaaaaaaaaaaaaac', 'aacobs']\n"
     ]
    }
   ],
   "source": [
    "# Words longer than four characters\n",
    "\n",
    "long_words = [word for word in vocab if len(word) > 4]\n",
    "sorted_words=sorted(long_words)\n",
    "print(sorted_words[:10]) # print the first ten, otherwise it will print too much"
   ]
  },
  {
   "cell_type": "code",
   "execution_count": 132,
   "metadata": {
    "slideshow": {
     "slide_type": "fragment"
    }
   },
   "outputs": [
    {
     "name": "stdout",
     "output_type": "stream",
     "text": [
      "['aaaa', 'aaaaa', 'aaaaaa', 'aaaaaaa', 'aaaaaaaaad', 'aaaabbbbbbaaaa', 'aaabbb', 'aaabbbbaaa', 'aaai', 'aaaijmit']\n"
     ]
    }
   ],
   "source": [
    "# Words of four or more characters\n",
    "long_words = [word for word in vocab if len(word) >= 4]\n",
    "sorted_words=sorted(long_words)\n",
    "print(sorted_words[:10]) # print the first ten, otherwise it will print too much"
   ]
  },
  {
   "cell_type": "code",
   "execution_count": 133,
   "metadata": {},
   "outputs": [
    {
     "name": "stdout",
     "output_type": "stream",
     "text": [
      "['aaaa', 'aaai', 'aaaj', 'aaak', 'aacf', 'aacw', 'aage', 'aamp', 'aand', 'aapo']\n"
     ]
    }
   ],
   "source": [
    "# Words of exactly four characters\n",
    "long_words = [word for word in vocab if len(word) == 4]\n",
    "sorted_words=sorted(long_words)\n",
    "print(sorted_words[:10]) # print the first ten, otherwise it will print too much"
   ]
  },
  {
   "cell_type": "markdown",
   "metadata": {
    "slideshow": {
     "slide_type": "fragment"
    }
   },
   "source": [
    "We can fine-tune our selection even further by adding other conditions. For instance, we might want to find long words that occur frequently (or rarely).  "
   ]
  },
  {
   "cell_type": "markdown",
   "metadata": {
    "slideshow": {
     "slide_type": "slide"
    }
   },
   "source": [
    "#### Challenge: Search with conditions\n",
    "\n",
    "Can you find all the words in a text that are more than seven letters long and occur more than seven times?"
   ]
  },
  {
   "cell_type": "code",
   "execution_count": 137,
   "metadata": {},
   "outputs": [
    {
     "data": {
      "text/plain": [
       "FreqDist({6: 242094, 5: 230531, 4: 203138, 7: 197674, 8: 159467, 9: 123410, 3: 120306, 10: 88198, 11: 66608, 12: 28499, ...})"
      ]
     },
     "execution_count": 137,
     "metadata": {},
     "output_type": "execute_result"
    }
   ],
   "source": [
    "fdist"
   ]
  },
  {
   "cell_type": "code",
   "execution_count": 139,
   "metadata": {
    "slideshow": {
     "slide_type": "slide"
    }
   },
   "outputs": [
    {
     "name": "stdout",
     "output_type": "stream",
     "text": [
      "['abbreviate', 'abnormal', 'abnormality', 'abramowicz', 'abscissa', 'absolute', 'absolutely', 'absorption', 'abstract', 'abstraction']\n"
     ]
    }
   ],
   "source": [
    "long_words = [word for word in vocab if len(word) > 7 and fdist1[word]>7 ] # we created fdist1 before as the distribution of words in the text\n",
    "sorted_words=sorted(long_words)\n",
    "print(sorted_words[:10]) # print the first ten, otherwise it will print too much"
   ]
  },
  {
   "cell_type": "markdown",
   "metadata": {
    "slideshow": {
     "slide_type": "slide"
    }
   },
   "source": [
    "### Common methods for strings\n",
    "\n",
    " | Operator  | Purpose  |\n",
    " |--------------|------------|\n",
    " | s.startswith(t) | test if s starts with t |\n",
    " | s.endswith(t)  |  test if s ends with t | \n",
    " | t in s         |  test if t is a substring of s | \n",
    " | s.islower()    |  test if s contains cased characters and all are lowercase | \n",
    " | s.isupper()    |  test if s contains cased characters and all are uppercase | \n",
    " | s.isalpha()    |  test if s is non-empty and all characters in s are alphabetic | \n",
    " | s.isalnum()    |  test if s is non-empty and all characters in s are alphanumeric | \n",
    " | s.isdigit()    |  test if s is non-empty and all characters in s are digits | \n",
    " | s.istitle()    |  test if s contains cased characters and is titlecased (i.e. all words in s have initial capitals) | "
   ]
  },
  {
   "cell_type": "code",
   "execution_count": 141,
   "metadata": {
    "slideshow": {
     "slide_type": "slide"
    }
   },
   "outputs": [
    {
     "name": "stdout",
     "output_type": "stream",
     "text": [
      "['abnormality', 'actuality', 'atypicality', 'bidirectionality', 'bighdimensionality', 'bimodality', 'cardinality', 'causality', 'chordality', 'commonality']\n"
     ]
    }
   ],
   "source": [
    "# get all the words from text 1 that ends with 'ality'\n",
    "some_words = [word for word in vocab if word.endswith('ality') ] # we created fdist1 before as the distribution of words in the text\n",
    "sorted_words=sorted(some_words)\n",
    "print(sorted_words[:10]) # print the first ten, otherwise it will print too much"
   ]
  },
  {
   "cell_type": "markdown",
   "metadata": {
    "slideshow": {
     "slide_type": "slide"
    }
   },
   "source": [
    "#### Challenge\n",
    "\n",
    "You'll remember right at the beginning we started looking at the size of the vocabulary of a text, but there were two problems with the results we got from using:\n",
    "\n",
    "```len(set(text1))```\n",
    "\n",
    "This count includes items of punctuation and treats capitalised and non-capitalised words as different things (*This* vs *this*). We can now fix these problems. We start by getting rid of capitalised words, then we get rid of the punctuation and numbers."
   ]
  },
  {
   "cell_type": "code",
   "execution_count": null,
   "metadata": {
    "slideshow": {
     "slide_type": "slide"
    }
   },
   "outputs": [],
   "source": [
    "len(set(text1))"
   ]
  },
  {
   "cell_type": "code",
   "execution_count": 148,
   "metadata": {
    "slideshow": {
     "slide_type": "slide"
    }
   },
   "outputs": [
    {
     "data": {
      "text/plain": [
       "['gambino',\n",
       " 'katoh',\n",
       " 'imensi',\n",
       " 'vegetation',\n",
       " 'tebelskis',\n",
       " 'nonretail',\n",
       " 'searchc',\n",
       " 'immerse',\n",
       " 'driver',\n",
       " 'vardi']"
      ]
     },
     "execution_count": 148,
     "metadata": {},
     "output_type": "execute_result"
    }
   ],
   "source": [
    "## Normalize by lower case\n",
    "some_words = [word.lower() for word in vocab] \n",
    "some_words[:10]"
   ]
  },
  {
   "cell_type": "code",
   "execution_count": 150,
   "metadata": {
    "slideshow": {
     "slide_type": "slide"
    }
   },
   "outputs": [
    {
     "name": "stdout",
     "output_type": "stream",
     "text": [
      "Before: 39116\n",
      "After: 39116\n"
     ]
    }
   ],
   "source": [
    "## Get rid of numbers and punctuation\n",
    "print(\"Before:\", len(some_words))\n",
    "some_words = [word for word in vocab if word.isalpha()]\n",
    "print(\"After:\", len(some_words))"
   ]
  },
  {
   "cell_type": "markdown",
   "metadata": {
    "slideshow": {
     "slide_type": "slide"
    }
   },
   "source": [
    "# Working your own text (cont)"
   ]
  },
  {
   "cell_type": "markdown",
   "metadata": {
    "slideshow": {
     "slide_type": "fragment"
    }
   },
   "source": [
    "We have a big string, that means, a sequence of characters. We already know how to work on this. For example, can we know the size of this string?"
   ]
  },
  {
   "cell_type": "code",
   "execution_count": 151,
   "metadata": {
    "slideshow": {
     "slide_type": "fragment"
    }
   },
   "outputs": [
    {
     "data": {
      "text/plain": [
       "205219146"
      ]
     },
     "execution_count": 151,
     "metadata": {},
     "output_type": "execute_result"
    }
   ],
   "source": [
    "len(text_raw)"
   ]
  },
  {
   "cell_type": "code",
   "execution_count": 152,
   "metadata": {
    "slideshow": {
     "slide_type": "fragment"
    }
   },
   "outputs": [
    {
     "data": {
      "text/plain": [
       "'767\\n\\nSELF-ORGANIZATION OF ASSOCIATIVE DATABASE\\nAND'"
      ]
     },
     "execution_count": 152,
     "metadata": {},
     "output_type": "execute_result"
    }
   ],
   "source": [
    "text_raw[:50]"
   ]
  },
  {
   "cell_type": "code",
   "execution_count": 153,
   "metadata": {
    "slideshow": {
     "slide_type": "slide"
    }
   },
   "outputs": [],
   "source": [
    "from nltk import word_tokenize,sent_tokenize,wordpunct_tokenize"
   ]
  },
  {
   "cell_type": "code",
   "execution_count": 155,
   "metadata": {
    "slideshow": {
     "slide_type": "fragment"
    }
   },
   "outputs": [
    {
     "data": {
      "text/plain": [
       "4242"
      ]
     },
     "execution_count": 155,
     "metadata": {},
     "output_type": "execute_result"
    }
   ],
   "source": [
    "## get the word tokens\n",
    "words=word_tokenize(text_raw[:20000]) # only for practical reasons I'm taking a portion of the text. You should remove the slicing.\n",
    "len(words)"
   ]
  },
  {
   "cell_type": "code",
   "execution_count": 156,
   "metadata": {
    "slideshow": {
     "slide_type": "fragment"
    }
   },
   "outputs": [
    {
     "name": "stdout",
     "output_type": "stream",
     "text": [
      "estimation error; learning machine; associative database; black point;\n",
      "recognition rate; associative databases; neural networks; autonomous\n",
      "mobile; avoiding movement; initial stage; relative frequency;\n",
      "recursive type; cost criterion; obstacle avoiding; observed samples;\n",
      "even though; position data; constructing associative; parameter type;\n",
      "2000 3000\n"
     ]
    }
   ],
   "source": [
    "# create a text object out of the tokens\n",
    "text10=nltk.Text(words)\n",
    "text10.collocations()"
   ]
  },
  {
   "cell_type": "markdown",
   "metadata": {
    "slideshow": {
     "slide_type": "slide"
    }
   },
   "source": [
    "#### Challenge: Explore your vocabulary with your text\n",
    "\n",
    "Get a text of your own\n",
    "\n",
    "1. Explore the lexical richness\n",
    "2. Calculate the percentage taken by a word\n",
    "3. Find the collocations\n",
    "4. Chose one of the words to concordance. \n",
    "5. Investigate how the word is used\n",
    "6. Create a dispersion plot\n",
    "7. Create a frequency distribution\n",
    "8. Get the top 50 words\n"
   ]
  },
  {
   "cell_type": "code",
   "execution_count": 157,
   "metadata": {},
   "outputs": [],
   "source": [
    "# this was done in previous challenges. I will encourage you to take your own text here and explore it!! Have Fun!"
   ]
  },
  {
   "cell_type": "code",
   "execution_count": null,
   "metadata": {},
   "outputs": [],
   "source": []
  },
  {
   "cell_type": "code",
   "execution_count": null,
   "metadata": {},
   "outputs": [],
   "source": []
  },
  {
   "cell_type": "code",
   "execution_count": null,
   "metadata": {},
   "outputs": [],
   "source": []
  },
  {
   "cell_type": "markdown",
   "metadata": {
    "slideshow": {
     "slide_type": "slide"
    }
   },
   "source": [
    "## Structuring the code: Writing our own functions (yay!)\n",
    "One thing that makes Python unique is that whitespace at the start of the line (use four spaces for consistency!) is meaningful. In many other languages, whitespace at the start of lines is simply a readability convention."
   ]
  },
  {
   "cell_type": "code",
   "execution_count": null,
   "metadata": {
    "slideshow": {
     "slide_type": "slide"
    }
   },
   "outputs": [],
   "source": [
    "# Fix this whitespace problem!\n",
    "\n",
    "string = 'user'\n",
    "if string == 'user':\n",
    "print('Phew, fixed.')"
   ]
  },
  {
   "cell_type": "markdown",
   "metadata": {
    "slideshow": {
     "slide_type": "fragment"
    }
   },
   "source": [
    "So, whitespace tells both Python and human readers where things start and stop."
   ]
  },
  {
   "cell_type": "markdown",
   "metadata": {
    "slideshow": {
     "slide_type": "slide"
    }
   },
   "source": [
    "### Defining a function\n",
    "\n",
    "<img src='res/function.jpg'>\n",
    "\n",
    "*Credit: Head First Python by Paul Barry*"
   ]
  },
  {
   "cell_type": "code",
   "execution_count": null,
   "metadata": {
    "slideshow": {
     "slide_type": "fragment"
    }
   },
   "outputs": [],
   "source": [
    "def welcomer(name):\n",
    "    print('Welcome, %s!' % name)# here '%s' tells Python to expect a string and how many strings to expect.  "
   ]
  },
  {
   "cell_type": "markdown",
   "metadata": {
    "slideshow": {
     "slide_type": "slide"
    }
   },
   "source": [
    "Here, the word 'name' is a placeholder. It stands in for any argument we might care to place in the brackets. The placeholder could be anything. It could be n or fsdlkfjs; it will still work. What matters for the program is that you use the same one consistently. On the other hand, what matters for us is that you use descriptive names so you remember what the code does!\n",
    "Notice that it doesn't do anything by itself. It needs to actually be called, and given some data:"
   ]
  },
  {
   "cell_type": "markdown",
   "metadata": {
    "slideshow": {
     "slide_type": "subslide"
    }
   },
   "source": [
    "Notice that it doesn't do anything by itself. It needs to actually be called, and given some data:"
   ]
  },
  {
   "cell_type": "code",
   "execution_count": null,
   "metadata": {
    "slideshow": {
     "slide_type": "slide"
    }
   },
   "outputs": [],
   "source": [
    "welcomer('jack')"
   ]
  },
  {
   "cell_type": "markdown",
   "metadata": {
    "slideshow": {
     "slide_type": "slide"
    }
   },
   "source": [
    "#### Challenge: Functions\n",
    "Previously, we calculated the lexical diversity of a text. In NLTK, we can create a function called lexical diversity that runs a single line of code. We can then call this function to quickly determine the lexical density of a corpus or subcorpus. Challenge!\n",
    "Write a function to calculate the lexical diversity of a text; test it out on the books in the NLTK corpus"
   ]
  },
  {
   "cell_type": "code",
   "execution_count": null,
   "metadata": {
    "slideshow": {
     "slide_type": "fragment"
    }
   },
   "outputs": [],
   "source": [
    "def lexical_diversity(text):\n",
    "    return len(text)/len(set(text))"
   ]
  },
  {
   "cell_type": "code",
   "execution_count": null,
   "metadata": {
    "slideshow": {
     "slide_type": "fragment"
    }
   },
   "outputs": [],
   "source": [
    "#After the function has been defined, we can run it:\n",
    "lexical_diversity(text2)"
   ]
  },
  {
   "cell_type": "markdown",
   "metadata": {
    "slideshow": {
     "slide_type": "slide"
    }
   },
   "source": [
    "Other functions that we've used already include ```len()``` and ```sorted()``` - these were predefined. ```lexical_diversity()```\n",
    " is one we set up ourselves; note that it's conventional to put a set of parentheses after a function, to make it clear what we're talking about."
   ]
  },
  {
   "cell_type": "markdown",
   "metadata": {
    "slideshow": {
     "slide_type": "slide"
    }
   },
   "source": [
    "**--bonus--**\n",
    "#### Challenge: Functions to set up our text from the web \n",
    "Write a function that receives a URL (internet address where the text is) and return an object ```Text```\n",
    " that you can use to explore."
   ]
  },
  {
   "cell_type": "code",
   "execution_count": null,
   "metadata": {
    "slideshow": {
     "slide_type": "slide"
    }
   },
   "outputs": [],
   "source": []
  }
 ],
 "metadata": {
  "celltoolbar": "Slideshow",
  "kernelspec": {
   "display_name": "Python [default]",
   "language": "python",
   "name": "python3"
  },
  "language_info": {
   "codemirror_mode": {
    "name": "ipython",
    "version": 3
   },
   "file_extension": ".py",
   "mimetype": "text/x-python",
   "name": "python",
   "nbconvert_exporter": "python",
   "pygments_lexer": "ipython3",
   "version": "3.5.6"
  },
  "latex_envs": {
   "LaTeX_envs_menu_present": true,
   "autoclose": false,
   "autocomplete": true,
   "bibliofile": "biblio.bib",
   "cite_by": "apalike",
   "current_citInitial": 1,
   "eqLabelWithNumbers": true,
   "eqNumInitial": 1,
   "hotkeys": {
    "equation": "Ctrl-E",
    "itemize": "Ctrl-I"
   },
   "labels_anchors": false,
   "latex_user_defs": false,
   "report_style_numbering": false,
   "user_envs_cfg": false
  },
  "toc": {
   "nav_menu": {},
   "number_sections": true,
   "sideBar": true,
   "skip_h1_title": false,
   "title_cell": "Table of Contents",
   "title_sidebar": "Contents",
   "toc_cell": false,
   "toc_position": {
    "height": "802.6666870117188px",
    "left": "22px",
    "top": "137.6666717529297px",
    "width": "333.9705810546875px"
   },
   "toc_section_display": true,
   "toc_window_display": false
  }
 },
 "nbformat": 4,
 "nbformat_minor": 2
}
